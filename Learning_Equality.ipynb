{
  "nbformat": 4,
  "nbformat_minor": 0,
  "metadata": {
    "colab": {
      "provenance": [],
      "mount_file_id": "1S6T6qB_vvl4hiB011mK0gpNFBunM3DZy",
      "authorship_tag": "ABX9TyNZXz9cZ7qqTBiv0J7Au9OQ",
      "include_colab_link": true
    },
    "kernelspec": {
      "name": "python3",
      "display_name": "Python 3"
    },
    "language_info": {
      "name": "python"
    },
    "gpuClass": "standard"
  },
  "cells": [
    {
      "cell_type": "markdown",
      "metadata": {
        "id": "view-in-github",
        "colab_type": "text"
      },
      "source": [
        "<a href=\"https://colab.research.google.com/github/jonotassia/LearningEquality/blob/main/Learning_Equality.ipynb\" target=\"_parent\"><img src=\"https://colab.research.google.com/assets/colab-badge.svg\" alt=\"Open In Colab\"/></a>"
      ]
    },
    {
      "cell_type": "markdown",
      "source": [
        "# Learning Equality\n",
        "\n",
        "This notebook contains code to create a machine learning model to analyze educational content for K-12 educational materials using TensorFlow."
      ],
      "metadata": {
        "id": "44pk3caitOtk"
      }
    },
    {
      "cell_type": "markdown",
      "source": [
        "## Goal\n",
        "\n",
        "The goal of this competition is to streamline the process of matching educational content to specific topics in a curriculum. You will develop an accurate and efficient model trained on a library of K-12 educational materials that have been organized into a variety of topic taxonomies. These materials are in diverse languages, and cover a wide range of topics, particularly in STEM (Science, Technology, Engineering, and Mathematics).\n",
        "\n",
        "You are challenged to predict which content items are best aligned to a given topic in a topic tree, with the goal of matching the selections made by curricular experts and other users of the Kolibri Studio platform. In other words, your goal is to recommend content items to curators for potential inclusion in a topic, to reduce the time they spend searching for and discovering relevant content to consider including in each topic."
      ],
      "metadata": {
        "id": "GxjKktvktRaI"
      }
    },
    {
      "cell_type": "markdown",
      "source": [
        "## Data\n",
        "\n",
        "The training set consists of a corpus of topic trees from within the Kolibri Content Library, along with additional non-public aligned channels, and supplementary channels with less granular or lower-quality alignment.\n",
        "\n",
        "* `topics.csv` - Contains a row for each topic in the dataset. These topics are organized into \"channels\", with each channel containing a single \"topic tree\" (which can be traversed through the \"parent\" reference). \n",
        " * `id` - A unique identifier for this topic.\n",
        " * `title` - Title text for this topic.\n",
        " * `description` - Description text (may be empty)\n",
        " * `channel` - The channel (that is, topic tree) this topic is part of.\n",
        " * `category` - Describes the origin of the topic.\n",
        "   * `source` - Structure was given by original content creator (e.g. the topic tree as imported from Khan Academy). There are no topics in the test set with this category.\n",
        "   * `aligned` - Structure is from a national curriculum or other target taxonomy, with content aligned from multiple sources.\n",
        "   * `supplemental` - This is a channel that has to some extent been aligned, but without the same level of granularity or fidelity as an aligned channel.\n",
        " * `language` - Language code for the topic. May not always match apparent language of its title or description, but will always match the language of any associated content items.\n",
        " * `parent` - The id of the topic that contains this topic, if any. This field if empty if the topic is the root node for its channel.\n",
        " * `level` - The depth of this topic within its topic tree. Level 0 means it is a root node (and hence its title is the title of the channel).\n",
        " * `has_content` - Whether there are content items correlated with this topic. Most content is correlated with leaf topics, but some non-leaf topics also have content correlations.\n",
        "\n",
        "* `content.csv` - Contains a row for each content item in the dataset. Note that the hidden dataset used for scoring contains additional content items not in the public version. These additional content items are only correlated to topics in the test set. Some content items may not be correlated with any topic.\n",
        " * `id` - A unique identifier for this content item.\n",
        " * `title` - Title text for this content item.\n",
        " * `description` - Description text. May be empty.\n",
        "language - Language code representing the language of this content item.\n",
        " * `kind` - Describes what format of content this item represents, as one of:\n",
        "   * `document` (text is extracted from a PDF or EPUB file)\n",
        "   * `video` (text is extracted from the subtitle file, if available)\n",
        "   * `exercise` (text is extracted from questions/answers)\n",
        "   * `audio` (no text)\n",
        "   * `html5` (text is extracted from HTML source)\n",
        " * `text` - Extracted text content, if available and if licensing permitted (around half of content items have text content).\n",
        " * `copyright_holder` - If text was extracted from the content, indicates the owner of the copyright for that content. Blank for all test set items.\n",
        " * `license` - If text was extracted from the content, the license under which that content was made available. Blank for all test set items.\n",
        "\n",
        "* `correlations.csv` - The content items associated to topics in the training set. A single content item may be associated to more than one topic. In each row, we give a topic_id and a list of all associated content_ids. These comprise the targets of the training set.\n",
        "\n"
      ],
      "metadata": {
        "id": "WriME_ttthlu"
      }
    },
    {
      "cell_type": "markdown",
      "source": [
        "## Evaluation\n",
        "\n",
        "Submissions will be evaluated based on their mean F2 score. The mean is calculated in a sample-wise fashion, meaning that an F2 score is calculated for every predicted row, then averaged."
      ],
      "metadata": {
        "id": "cHG0HAN9vKpF"
      }
    },
    {
      "cell_type": "markdown",
      "source": [
        "## Toolkit\n",
        "\n",
        "This project will leverage NumPy, Pandas, and MatplotLib for data analysis and visualisation. TensorFlow will be used to generate a machine learning model for this dataset."
      ],
      "metadata": {
        "id": "8a2TR0z1uYwE"
      }
    },
    {
      "cell_type": "code",
      "source": [
        "# File handling libraries\n",
        "from google.colab import files\n",
        "import zipfile\n",
        "\n",
        "# Data analysis libraries\n",
        "import pandas as pd\n",
        "import numpy as np\n",
        "import matplotlib.pyplot as plt\n",
        "import tensorflow as tf"
      ],
      "metadata": {
        "id": "gdkrFP8BurVR"
      },
      "execution_count": 1,
      "outputs": []
    },
    {
      "cell_type": "code",
      "source": [
        "# Create directories and upload Kaggle JSON\n",
        "files.upload()\n",
        "! mkdir ~/.kaggle/\n",
        "! cp /content/kaggle.json ~/.kaggle/\n",
        "! chmod 600 ~/.kaggle/kaggle.json"
      ],
      "metadata": {
        "colab": {
          "base_uri": "https://localhost:8080/",
          "height": 90
        },
        "id": "jQf3edPQxGuT",
        "outputId": "018a2868-9929-438c-dbdc-23c53a34b068"
      },
      "execution_count": 2,
      "outputs": [
        {
          "output_type": "display_data",
          "data": {
            "text/plain": [
              "<IPython.core.display.HTML object>"
            ],
            "text/html": [
              "\n",
              "     <input type=\"file\" id=\"files-a24e0b7d-1023-40a0-aa0f-628406fbfc3c\" name=\"files[]\" multiple disabled\n",
              "        style=\"border:none\" />\n",
              "     <output id=\"result-a24e0b7d-1023-40a0-aa0f-628406fbfc3c\">\n",
              "      Upload widget is only available when the cell has been executed in the\n",
              "      current browser session. Please rerun this cell to enable.\n",
              "      </output>\n",
              "      <script>// Copyright 2017 Google LLC\n",
              "//\n",
              "// Licensed under the Apache License, Version 2.0 (the \"License\");\n",
              "// you may not use this file except in compliance with the License.\n",
              "// You may obtain a copy of the License at\n",
              "//\n",
              "//      http://www.apache.org/licenses/LICENSE-2.0\n",
              "//\n",
              "// Unless required by applicable law or agreed to in writing, software\n",
              "// distributed under the License is distributed on an \"AS IS\" BASIS,\n",
              "// WITHOUT WARRANTIES OR CONDITIONS OF ANY KIND, either express or implied.\n",
              "// See the License for the specific language governing permissions and\n",
              "// limitations under the License.\n",
              "\n",
              "/**\n",
              " * @fileoverview Helpers for google.colab Python module.\n",
              " */\n",
              "(function(scope) {\n",
              "function span(text, styleAttributes = {}) {\n",
              "  const element = document.createElement('span');\n",
              "  element.textContent = text;\n",
              "  for (const key of Object.keys(styleAttributes)) {\n",
              "    element.style[key] = styleAttributes[key];\n",
              "  }\n",
              "  return element;\n",
              "}\n",
              "\n",
              "// Max number of bytes which will be uploaded at a time.\n",
              "const MAX_PAYLOAD_SIZE = 100 * 1024;\n",
              "\n",
              "function _uploadFiles(inputId, outputId) {\n",
              "  const steps = uploadFilesStep(inputId, outputId);\n",
              "  const outputElement = document.getElementById(outputId);\n",
              "  // Cache steps on the outputElement to make it available for the next call\n",
              "  // to uploadFilesContinue from Python.\n",
              "  outputElement.steps = steps;\n",
              "\n",
              "  return _uploadFilesContinue(outputId);\n",
              "}\n",
              "\n",
              "// This is roughly an async generator (not supported in the browser yet),\n",
              "// where there are multiple asynchronous steps and the Python side is going\n",
              "// to poll for completion of each step.\n",
              "// This uses a Promise to block the python side on completion of each step,\n",
              "// then passes the result of the previous step as the input to the next step.\n",
              "function _uploadFilesContinue(outputId) {\n",
              "  const outputElement = document.getElementById(outputId);\n",
              "  const steps = outputElement.steps;\n",
              "\n",
              "  const next = steps.next(outputElement.lastPromiseValue);\n",
              "  return Promise.resolve(next.value.promise).then((value) => {\n",
              "    // Cache the last promise value to make it available to the next\n",
              "    // step of the generator.\n",
              "    outputElement.lastPromiseValue = value;\n",
              "    return next.value.response;\n",
              "  });\n",
              "}\n",
              "\n",
              "/**\n",
              " * Generator function which is called between each async step of the upload\n",
              " * process.\n",
              " * @param {string} inputId Element ID of the input file picker element.\n",
              " * @param {string} outputId Element ID of the output display.\n",
              " * @return {!Iterable<!Object>} Iterable of next steps.\n",
              " */\n",
              "function* uploadFilesStep(inputId, outputId) {\n",
              "  const inputElement = document.getElementById(inputId);\n",
              "  inputElement.disabled = false;\n",
              "\n",
              "  const outputElement = document.getElementById(outputId);\n",
              "  outputElement.innerHTML = '';\n",
              "\n",
              "  const pickedPromise = new Promise((resolve) => {\n",
              "    inputElement.addEventListener('change', (e) => {\n",
              "      resolve(e.target.files);\n",
              "    });\n",
              "  });\n",
              "\n",
              "  const cancel = document.createElement('button');\n",
              "  inputElement.parentElement.appendChild(cancel);\n",
              "  cancel.textContent = 'Cancel upload';\n",
              "  const cancelPromise = new Promise((resolve) => {\n",
              "    cancel.onclick = () => {\n",
              "      resolve(null);\n",
              "    };\n",
              "  });\n",
              "\n",
              "  // Wait for the user to pick the files.\n",
              "  const files = yield {\n",
              "    promise: Promise.race([pickedPromise, cancelPromise]),\n",
              "    response: {\n",
              "      action: 'starting',\n",
              "    }\n",
              "  };\n",
              "\n",
              "  cancel.remove();\n",
              "\n",
              "  // Disable the input element since further picks are not allowed.\n",
              "  inputElement.disabled = true;\n",
              "\n",
              "  if (!files) {\n",
              "    return {\n",
              "      response: {\n",
              "        action: 'complete',\n",
              "      }\n",
              "    };\n",
              "  }\n",
              "\n",
              "  for (const file of files) {\n",
              "    const li = document.createElement('li');\n",
              "    li.append(span(file.name, {fontWeight: 'bold'}));\n",
              "    li.append(span(\n",
              "        `(${file.type || 'n/a'}) - ${file.size} bytes, ` +\n",
              "        `last modified: ${\n",
              "            file.lastModifiedDate ? file.lastModifiedDate.toLocaleDateString() :\n",
              "                                    'n/a'} - `));\n",
              "    const percent = span('0% done');\n",
              "    li.appendChild(percent);\n",
              "\n",
              "    outputElement.appendChild(li);\n",
              "\n",
              "    const fileDataPromise = new Promise((resolve) => {\n",
              "      const reader = new FileReader();\n",
              "      reader.onload = (e) => {\n",
              "        resolve(e.target.result);\n",
              "      };\n",
              "      reader.readAsArrayBuffer(file);\n",
              "    });\n",
              "    // Wait for the data to be ready.\n",
              "    let fileData = yield {\n",
              "      promise: fileDataPromise,\n",
              "      response: {\n",
              "        action: 'continue',\n",
              "      }\n",
              "    };\n",
              "\n",
              "    // Use a chunked sending to avoid message size limits. See b/62115660.\n",
              "    let position = 0;\n",
              "    do {\n",
              "      const length = Math.min(fileData.byteLength - position, MAX_PAYLOAD_SIZE);\n",
              "      const chunk = new Uint8Array(fileData, position, length);\n",
              "      position += length;\n",
              "\n",
              "      const base64 = btoa(String.fromCharCode.apply(null, chunk));\n",
              "      yield {\n",
              "        response: {\n",
              "          action: 'append',\n",
              "          file: file.name,\n",
              "          data: base64,\n",
              "        },\n",
              "      };\n",
              "\n",
              "      let percentDone = fileData.byteLength === 0 ?\n",
              "          100 :\n",
              "          Math.round((position / fileData.byteLength) * 100);\n",
              "      percent.textContent = `${percentDone}% done`;\n",
              "\n",
              "    } while (position < fileData.byteLength);\n",
              "  }\n",
              "\n",
              "  // All done.\n",
              "  yield {\n",
              "    response: {\n",
              "      action: 'complete',\n",
              "    }\n",
              "  };\n",
              "}\n",
              "\n",
              "scope.google = scope.google || {};\n",
              "scope.google.colab = scope.google.colab || {};\n",
              "scope.google.colab._files = {\n",
              "  _uploadFiles,\n",
              "  _uploadFilesContinue,\n",
              "};\n",
              "})(self);\n",
              "</script> "
            ]
          },
          "metadata": {}
        },
        {
          "output_type": "stream",
          "name": "stdout",
          "text": [
            "Saving kaggle.json to kaggle (5).json\n",
            "mkdir: cannot create directory ‘/root/.kaggle/’: File exists\n"
          ]
        }
      ]
    },
    {
      "cell_type": "code",
      "source": [
        "# Kaggle API for datasets\n",
        "import kaggle as kg"
      ],
      "metadata": {
        "id": "l3FbUEJJu60E"
      },
      "execution_count": 3,
      "outputs": []
    },
    {
      "cell_type": "code",
      "source": [
        "# Create and authenticate Kaggle client\n",
        "kaggle = kg.KaggleApi()\n",
        "kaggle.authenticate()\n",
        "\n",
        "# Download dataset\n",
        "kaggle.competition_download_files('learning-equality-curriculum-recommendations', path=\"./\")\n",
        "\n",
        "# Unzip dataset\n",
        "with zipfile.ZipFile('./learning-equality-curriculum-recommendations.zip', 'r') as zipref:\n",
        "  zipref.extractall('./')\n",
        "\n",
        "# Delete zip file\n",
        "! rm ./learning-equality-curriculum-recommendations.zip"
      ],
      "metadata": {
        "id": "rjEeZSM8yKWP"
      },
      "execution_count": 4,
      "outputs": []
    },
    {
      "cell_type": "markdown",
      "source": [
        "## Data Exploration\n",
        "\n",
        "Review data for information and trends ahead of building model. Features to investigate:\n",
        "  * Available topics\n",
        "  * Relative breakdown of content `kinds`"
      ],
      "metadata": {
        "id": "h0wcKg7X0mmD"
      }
    },
    {
      "cell_type": "code",
      "source": [
        "# Load content and topic dataframes\n",
        "topic_df = pd.read_csv(\"./topics.csv\")\n",
        "content_df = pd.read_csv(\"./content.csv\")\n",
        "correlations_df = pd.read_csv(\"./correlations.csv\")"
      ],
      "metadata": {
        "id": "STdq6WX21gvF"
      },
      "execution_count": 5,
      "outputs": []
    },
    {
      "cell_type": "code",
      "source": [
        "topic_df.head()"
      ],
      "metadata": {
        "colab": {
          "base_uri": "https://localhost:8080/",
          "height": 206
        },
        "id": "s2Ves8sD4A4P",
        "outputId": "29497dbf-2bd5-4f63-c628-f5c34c9069de"
      },
      "execution_count": 6,
      "outputs": [
        {
          "output_type": "execute_result",
          "data": {
            "text/plain": [
              "               id                                              title  \\\n",
              "0  t_00004da3a1b2                         Откриването на резисторите   \n",
              "1  t_000095e03056             Unit 3.3 Enlargements and Similarities   \n",
              "2  t_00068291e9a4                    Entradas e saídas de uma função   \n",
              "3  t_00069b63a70a                                        Transcripts   \n",
              "4  t_0006d41a73a8  Графики на експоненциални функции (Алгебра 2 н...   \n",
              "\n",
              "                                         description channel category  level  \\\n",
              "0  Изследване на материали, които предизвикват на...  000cf7   source      4   \n",
              "1                                                NaN  b3f329  aligned      2   \n",
              "2               Entenda um pouco mais sobre funções.  8e286a   source      4   \n",
              "3                                                NaN  6e3ba4   source      3   \n",
              "4  Научи повече за графиките на сложните показате...  000cf7   source      4   \n",
              "\n",
              "  language          parent  has_content  \n",
              "0       bg  t_16e29365b50d         True  \n",
              "1       en  t_aa32fb6252dc        False  \n",
              "2       pt  t_d14b6c2a2b70         True  \n",
              "3       en  t_4054df11a74e         True  \n",
              "4       bg  t_e2452e21d252         True  "
            ],
            "text/html": [
              "\n",
              "  <div id=\"df-e001455f-8742-4260-b232-2eae2018592e\">\n",
              "    <div class=\"colab-df-container\">\n",
              "      <div>\n",
              "<style scoped>\n",
              "    .dataframe tbody tr th:only-of-type {\n",
              "        vertical-align: middle;\n",
              "    }\n",
              "\n",
              "    .dataframe tbody tr th {\n",
              "        vertical-align: top;\n",
              "    }\n",
              "\n",
              "    .dataframe thead th {\n",
              "        text-align: right;\n",
              "    }\n",
              "</style>\n",
              "<table border=\"1\" class=\"dataframe\">\n",
              "  <thead>\n",
              "    <tr style=\"text-align: right;\">\n",
              "      <th></th>\n",
              "      <th>id</th>\n",
              "      <th>title</th>\n",
              "      <th>description</th>\n",
              "      <th>channel</th>\n",
              "      <th>category</th>\n",
              "      <th>level</th>\n",
              "      <th>language</th>\n",
              "      <th>parent</th>\n",
              "      <th>has_content</th>\n",
              "    </tr>\n",
              "  </thead>\n",
              "  <tbody>\n",
              "    <tr>\n",
              "      <th>0</th>\n",
              "      <td>t_00004da3a1b2</td>\n",
              "      <td>Откриването на резисторите</td>\n",
              "      <td>Изследване на материали, които предизвикват на...</td>\n",
              "      <td>000cf7</td>\n",
              "      <td>source</td>\n",
              "      <td>4</td>\n",
              "      <td>bg</td>\n",
              "      <td>t_16e29365b50d</td>\n",
              "      <td>True</td>\n",
              "    </tr>\n",
              "    <tr>\n",
              "      <th>1</th>\n",
              "      <td>t_000095e03056</td>\n",
              "      <td>Unit 3.3 Enlargements and Similarities</td>\n",
              "      <td>NaN</td>\n",
              "      <td>b3f329</td>\n",
              "      <td>aligned</td>\n",
              "      <td>2</td>\n",
              "      <td>en</td>\n",
              "      <td>t_aa32fb6252dc</td>\n",
              "      <td>False</td>\n",
              "    </tr>\n",
              "    <tr>\n",
              "      <th>2</th>\n",
              "      <td>t_00068291e9a4</td>\n",
              "      <td>Entradas e saídas de uma função</td>\n",
              "      <td>Entenda um pouco mais sobre funções.</td>\n",
              "      <td>8e286a</td>\n",
              "      <td>source</td>\n",
              "      <td>4</td>\n",
              "      <td>pt</td>\n",
              "      <td>t_d14b6c2a2b70</td>\n",
              "      <td>True</td>\n",
              "    </tr>\n",
              "    <tr>\n",
              "      <th>3</th>\n",
              "      <td>t_00069b63a70a</td>\n",
              "      <td>Transcripts</td>\n",
              "      <td>NaN</td>\n",
              "      <td>6e3ba4</td>\n",
              "      <td>source</td>\n",
              "      <td>3</td>\n",
              "      <td>en</td>\n",
              "      <td>t_4054df11a74e</td>\n",
              "      <td>True</td>\n",
              "    </tr>\n",
              "    <tr>\n",
              "      <th>4</th>\n",
              "      <td>t_0006d41a73a8</td>\n",
              "      <td>Графики на експоненциални функции (Алгебра 2 н...</td>\n",
              "      <td>Научи повече за графиките на сложните показате...</td>\n",
              "      <td>000cf7</td>\n",
              "      <td>source</td>\n",
              "      <td>4</td>\n",
              "      <td>bg</td>\n",
              "      <td>t_e2452e21d252</td>\n",
              "      <td>True</td>\n",
              "    </tr>\n",
              "  </tbody>\n",
              "</table>\n",
              "</div>\n",
              "      <button class=\"colab-df-convert\" onclick=\"convertToInteractive('df-e001455f-8742-4260-b232-2eae2018592e')\"\n",
              "              title=\"Convert this dataframe to an interactive table.\"\n",
              "              style=\"display:none;\">\n",
              "        \n",
              "  <svg xmlns=\"http://www.w3.org/2000/svg\" height=\"24px\"viewBox=\"0 0 24 24\"\n",
              "       width=\"24px\">\n",
              "    <path d=\"M0 0h24v24H0V0z\" fill=\"none\"/>\n",
              "    <path d=\"M18.56 5.44l.94 2.06.94-2.06 2.06-.94-2.06-.94-.94-2.06-.94 2.06-2.06.94zm-11 1L8.5 8.5l.94-2.06 2.06-.94-2.06-.94L8.5 2.5l-.94 2.06-2.06.94zm10 10l.94 2.06.94-2.06 2.06-.94-2.06-.94-.94-2.06-.94 2.06-2.06.94z\"/><path d=\"M17.41 7.96l-1.37-1.37c-.4-.4-.92-.59-1.43-.59-.52 0-1.04.2-1.43.59L10.3 9.45l-7.72 7.72c-.78.78-.78 2.05 0 2.83L4 21.41c.39.39.9.59 1.41.59.51 0 1.02-.2 1.41-.59l7.78-7.78 2.81-2.81c.8-.78.8-2.07 0-2.86zM5.41 20L4 18.59l7.72-7.72 1.47 1.35L5.41 20z\"/>\n",
              "  </svg>\n",
              "      </button>\n",
              "      \n",
              "  <style>\n",
              "    .colab-df-container {\n",
              "      display:flex;\n",
              "      flex-wrap:wrap;\n",
              "      gap: 12px;\n",
              "    }\n",
              "\n",
              "    .colab-df-convert {\n",
              "      background-color: #E8F0FE;\n",
              "      border: none;\n",
              "      border-radius: 50%;\n",
              "      cursor: pointer;\n",
              "      display: none;\n",
              "      fill: #1967D2;\n",
              "      height: 32px;\n",
              "      padding: 0 0 0 0;\n",
              "      width: 32px;\n",
              "    }\n",
              "\n",
              "    .colab-df-convert:hover {\n",
              "      background-color: #E2EBFA;\n",
              "      box-shadow: 0px 1px 2px rgba(60, 64, 67, 0.3), 0px 1px 3px 1px rgba(60, 64, 67, 0.15);\n",
              "      fill: #174EA6;\n",
              "    }\n",
              "\n",
              "    [theme=dark] .colab-df-convert {\n",
              "      background-color: #3B4455;\n",
              "      fill: #D2E3FC;\n",
              "    }\n",
              "\n",
              "    [theme=dark] .colab-df-convert:hover {\n",
              "      background-color: #434B5C;\n",
              "      box-shadow: 0px 1px 3px 1px rgba(0, 0, 0, 0.15);\n",
              "      filter: drop-shadow(0px 1px 2px rgba(0, 0, 0, 0.3));\n",
              "      fill: #FFFFFF;\n",
              "    }\n",
              "  </style>\n",
              "\n",
              "      <script>\n",
              "        const buttonEl =\n",
              "          document.querySelector('#df-e001455f-8742-4260-b232-2eae2018592e button.colab-df-convert');\n",
              "        buttonEl.style.display =\n",
              "          google.colab.kernel.accessAllowed ? 'block' : 'none';\n",
              "\n",
              "        async function convertToInteractive(key) {\n",
              "          const element = document.querySelector('#df-e001455f-8742-4260-b232-2eae2018592e');\n",
              "          const dataTable =\n",
              "            await google.colab.kernel.invokeFunction('convertToInteractive',\n",
              "                                                     [key], {});\n",
              "          if (!dataTable) return;\n",
              "\n",
              "          const docLinkHtml = 'Like what you see? Visit the ' +\n",
              "            '<a target=\"_blank\" href=https://colab.research.google.com/notebooks/data_table.ipynb>data table notebook</a>'\n",
              "            + ' to learn more about interactive tables.';\n",
              "          element.innerHTML = '';\n",
              "          dataTable['output_type'] = 'display_data';\n",
              "          await google.colab.output.renderOutput(dataTable, element);\n",
              "          const docLink = document.createElement('div');\n",
              "          docLink.innerHTML = docLinkHtml;\n",
              "          element.appendChild(docLink);\n",
              "        }\n",
              "      </script>\n",
              "    </div>\n",
              "  </div>\n",
              "  "
            ]
          },
          "metadata": {},
          "execution_count": 6
        }
      ]
    },
    {
      "cell_type": "code",
      "source": [
        "content_df.head()"
      ],
      "metadata": {
        "colab": {
          "base_uri": "https://localhost:8080/",
          "height": 206
        },
        "id": "I809fQaG4SZ9",
        "outputId": "4ca7da4f-2b28-4159-cdc6-e4dee85cf0a5"
      },
      "execution_count": 7,
      "outputs": [
        {
          "output_type": "execute_result",
          "data": {
            "text/plain": [
              "               id                                             title  \\\n",
              "0  c_00002381196d  Sumar números de varios dígitos: 48,029+233,930    \n",
              "1  c_000087304a9e                    Trovare i fattori di un numero   \n",
              "2  c_0000ad142ddb                           Sumar curvas de demanda   \n",
              "3  c_0000c03adc8d                               Nado de aproximação   \n",
              "4  c_00016694ea2a                  geometry-m3-topic-a-overview.pdf   \n",
              "\n",
              "                                         description      kind  \\\n",
              "0  Suma 48,029+233,930 mediante el algoritmo está...     video   \n",
              "1                    Sal trova i fattori di 120.\\n\\n     video   \n",
              "2                  Cómo añadir curvas de demanda\\n\\n     video   \n",
              "3  Neste vídeo você vai aprender o nado de aproxi...  document   \n",
              "4                   geometry-m3-topic-a-overview.pdf  document   \n",
              "\n",
              "                                                text language  \\\n",
              "0                                                NaN       es   \n",
              "1                                                NaN       it   \n",
              "2                                                NaN       es   \n",
              "3  \\nNado de aproximação\\nSaber nadar nas ondas ...       pt   \n",
              "4  Estándares Comunes del Estado de Nueva York\\n\\...       es   \n",
              "\n",
              "   copyright_holder      license  \n",
              "0               NaN          NaN  \n",
              "1               NaN          NaN  \n",
              "2               NaN          NaN  \n",
              "3  Sikana Education  CC BY-NC-ND  \n",
              "4         Engage NY  CC BY-NC-SA  "
            ],
            "text/html": [
              "\n",
              "  <div id=\"df-138783eb-0c45-4aef-99d9-5870c7c49159\">\n",
              "    <div class=\"colab-df-container\">\n",
              "      <div>\n",
              "<style scoped>\n",
              "    .dataframe tbody tr th:only-of-type {\n",
              "        vertical-align: middle;\n",
              "    }\n",
              "\n",
              "    .dataframe tbody tr th {\n",
              "        vertical-align: top;\n",
              "    }\n",
              "\n",
              "    .dataframe thead th {\n",
              "        text-align: right;\n",
              "    }\n",
              "</style>\n",
              "<table border=\"1\" class=\"dataframe\">\n",
              "  <thead>\n",
              "    <tr style=\"text-align: right;\">\n",
              "      <th></th>\n",
              "      <th>id</th>\n",
              "      <th>title</th>\n",
              "      <th>description</th>\n",
              "      <th>kind</th>\n",
              "      <th>text</th>\n",
              "      <th>language</th>\n",
              "      <th>copyright_holder</th>\n",
              "      <th>license</th>\n",
              "    </tr>\n",
              "  </thead>\n",
              "  <tbody>\n",
              "    <tr>\n",
              "      <th>0</th>\n",
              "      <td>c_00002381196d</td>\n",
              "      <td>Sumar números de varios dígitos: 48,029+233,930</td>\n",
              "      <td>Suma 48,029+233,930 mediante el algoritmo está...</td>\n",
              "      <td>video</td>\n",
              "      <td>NaN</td>\n",
              "      <td>es</td>\n",
              "      <td>NaN</td>\n",
              "      <td>NaN</td>\n",
              "    </tr>\n",
              "    <tr>\n",
              "      <th>1</th>\n",
              "      <td>c_000087304a9e</td>\n",
              "      <td>Trovare i fattori di un numero</td>\n",
              "      <td>Sal trova i fattori di 120.\\n\\n</td>\n",
              "      <td>video</td>\n",
              "      <td>NaN</td>\n",
              "      <td>it</td>\n",
              "      <td>NaN</td>\n",
              "      <td>NaN</td>\n",
              "    </tr>\n",
              "    <tr>\n",
              "      <th>2</th>\n",
              "      <td>c_0000ad142ddb</td>\n",
              "      <td>Sumar curvas de demanda</td>\n",
              "      <td>Cómo añadir curvas de demanda\\n\\n</td>\n",
              "      <td>video</td>\n",
              "      <td>NaN</td>\n",
              "      <td>es</td>\n",
              "      <td>NaN</td>\n",
              "      <td>NaN</td>\n",
              "    </tr>\n",
              "    <tr>\n",
              "      <th>3</th>\n",
              "      <td>c_0000c03adc8d</td>\n",
              "      <td>Nado de aproximação</td>\n",
              "      <td>Neste vídeo você vai aprender o nado de aproxi...</td>\n",
              "      <td>document</td>\n",
              "      <td>\\nNado de aproximação\\nSaber nadar nas ondas ...</td>\n",
              "      <td>pt</td>\n",
              "      <td>Sikana Education</td>\n",
              "      <td>CC BY-NC-ND</td>\n",
              "    </tr>\n",
              "    <tr>\n",
              "      <th>4</th>\n",
              "      <td>c_00016694ea2a</td>\n",
              "      <td>geometry-m3-topic-a-overview.pdf</td>\n",
              "      <td>geometry-m3-topic-a-overview.pdf</td>\n",
              "      <td>document</td>\n",
              "      <td>Estándares Comunes del Estado de Nueva York\\n\\...</td>\n",
              "      <td>es</td>\n",
              "      <td>Engage NY</td>\n",
              "      <td>CC BY-NC-SA</td>\n",
              "    </tr>\n",
              "  </tbody>\n",
              "</table>\n",
              "</div>\n",
              "      <button class=\"colab-df-convert\" onclick=\"convertToInteractive('df-138783eb-0c45-4aef-99d9-5870c7c49159')\"\n",
              "              title=\"Convert this dataframe to an interactive table.\"\n",
              "              style=\"display:none;\">\n",
              "        \n",
              "  <svg xmlns=\"http://www.w3.org/2000/svg\" height=\"24px\"viewBox=\"0 0 24 24\"\n",
              "       width=\"24px\">\n",
              "    <path d=\"M0 0h24v24H0V0z\" fill=\"none\"/>\n",
              "    <path d=\"M18.56 5.44l.94 2.06.94-2.06 2.06-.94-2.06-.94-.94-2.06-.94 2.06-2.06.94zm-11 1L8.5 8.5l.94-2.06 2.06-.94-2.06-.94L8.5 2.5l-.94 2.06-2.06.94zm10 10l.94 2.06.94-2.06 2.06-.94-2.06-.94-.94-2.06-.94 2.06-2.06.94z\"/><path d=\"M17.41 7.96l-1.37-1.37c-.4-.4-.92-.59-1.43-.59-.52 0-1.04.2-1.43.59L10.3 9.45l-7.72 7.72c-.78.78-.78 2.05 0 2.83L4 21.41c.39.39.9.59 1.41.59.51 0 1.02-.2 1.41-.59l7.78-7.78 2.81-2.81c.8-.78.8-2.07 0-2.86zM5.41 20L4 18.59l7.72-7.72 1.47 1.35L5.41 20z\"/>\n",
              "  </svg>\n",
              "      </button>\n",
              "      \n",
              "  <style>\n",
              "    .colab-df-container {\n",
              "      display:flex;\n",
              "      flex-wrap:wrap;\n",
              "      gap: 12px;\n",
              "    }\n",
              "\n",
              "    .colab-df-convert {\n",
              "      background-color: #E8F0FE;\n",
              "      border: none;\n",
              "      border-radius: 50%;\n",
              "      cursor: pointer;\n",
              "      display: none;\n",
              "      fill: #1967D2;\n",
              "      height: 32px;\n",
              "      padding: 0 0 0 0;\n",
              "      width: 32px;\n",
              "    }\n",
              "\n",
              "    .colab-df-convert:hover {\n",
              "      background-color: #E2EBFA;\n",
              "      box-shadow: 0px 1px 2px rgba(60, 64, 67, 0.3), 0px 1px 3px 1px rgba(60, 64, 67, 0.15);\n",
              "      fill: #174EA6;\n",
              "    }\n",
              "\n",
              "    [theme=dark] .colab-df-convert {\n",
              "      background-color: #3B4455;\n",
              "      fill: #D2E3FC;\n",
              "    }\n",
              "\n",
              "    [theme=dark] .colab-df-convert:hover {\n",
              "      background-color: #434B5C;\n",
              "      box-shadow: 0px 1px 3px 1px rgba(0, 0, 0, 0.15);\n",
              "      filter: drop-shadow(0px 1px 2px rgba(0, 0, 0, 0.3));\n",
              "      fill: #FFFFFF;\n",
              "    }\n",
              "  </style>\n",
              "\n",
              "      <script>\n",
              "        const buttonEl =\n",
              "          document.querySelector('#df-138783eb-0c45-4aef-99d9-5870c7c49159 button.colab-df-convert');\n",
              "        buttonEl.style.display =\n",
              "          google.colab.kernel.accessAllowed ? 'block' : 'none';\n",
              "\n",
              "        async function convertToInteractive(key) {\n",
              "          const element = document.querySelector('#df-138783eb-0c45-4aef-99d9-5870c7c49159');\n",
              "          const dataTable =\n",
              "            await google.colab.kernel.invokeFunction('convertToInteractive',\n",
              "                                                     [key], {});\n",
              "          if (!dataTable) return;\n",
              "\n",
              "          const docLinkHtml = 'Like what you see? Visit the ' +\n",
              "            '<a target=\"_blank\" href=https://colab.research.google.com/notebooks/data_table.ipynb>data table notebook</a>'\n",
              "            + ' to learn more about interactive tables.';\n",
              "          element.innerHTML = '';\n",
              "          dataTable['output_type'] = 'display_data';\n",
              "          await google.colab.output.renderOutput(dataTable, element);\n",
              "          const docLink = document.createElement('div');\n",
              "          docLink.innerHTML = docLinkHtml;\n",
              "          element.appendChild(docLink);\n",
              "        }\n",
              "      </script>\n",
              "    </div>\n",
              "  </div>\n",
              "  "
            ]
          },
          "metadata": {},
          "execution_count": 7
        }
      ]
    },
    {
      "cell_type": "code",
      "source": [
        "correlations_df.head()"
      ],
      "metadata": {
        "colab": {
          "base_uri": "https://localhost:8080/",
          "height": 206
        },
        "id": "mWtyVNfqHV1g",
        "outputId": "6267bb8a-800e-418a-8c33-cca3bf031c73"
      },
      "execution_count": 8,
      "outputs": [
        {
          "output_type": "execute_result",
          "data": {
            "text/plain": [
              "         topic_id                                        content_ids\n",
              "0  t_00004da3a1b2  c_1108dd0c7a5d c_376c5a8eb028 c_5bc0e1e2cba0 c...\n",
              "1  t_00068291e9a4  c_639ea2ef9c95 c_89ce9367be10 c_ac1672cdcd2c c...\n",
              "2  t_00069b63a70a                                     c_11a1dc0bfb99\n",
              "3  t_0006d41a73a8  c_0c6473c3480d c_1c57a1316568 c_5e375cf14c47 c...\n",
              "4  t_0008768bdee6       c_34e1424229b4 c_7d1a964d66d5 c_aab93ee667f4"
            ],
            "text/html": [
              "\n",
              "  <div id=\"df-0cff3921-9dbd-4d1b-b300-3053ac8efd4d\">\n",
              "    <div class=\"colab-df-container\">\n",
              "      <div>\n",
              "<style scoped>\n",
              "    .dataframe tbody tr th:only-of-type {\n",
              "        vertical-align: middle;\n",
              "    }\n",
              "\n",
              "    .dataframe tbody tr th {\n",
              "        vertical-align: top;\n",
              "    }\n",
              "\n",
              "    .dataframe thead th {\n",
              "        text-align: right;\n",
              "    }\n",
              "</style>\n",
              "<table border=\"1\" class=\"dataframe\">\n",
              "  <thead>\n",
              "    <tr style=\"text-align: right;\">\n",
              "      <th></th>\n",
              "      <th>topic_id</th>\n",
              "      <th>content_ids</th>\n",
              "    </tr>\n",
              "  </thead>\n",
              "  <tbody>\n",
              "    <tr>\n",
              "      <th>0</th>\n",
              "      <td>t_00004da3a1b2</td>\n",
              "      <td>c_1108dd0c7a5d c_376c5a8eb028 c_5bc0e1e2cba0 c...</td>\n",
              "    </tr>\n",
              "    <tr>\n",
              "      <th>1</th>\n",
              "      <td>t_00068291e9a4</td>\n",
              "      <td>c_639ea2ef9c95 c_89ce9367be10 c_ac1672cdcd2c c...</td>\n",
              "    </tr>\n",
              "    <tr>\n",
              "      <th>2</th>\n",
              "      <td>t_00069b63a70a</td>\n",
              "      <td>c_11a1dc0bfb99</td>\n",
              "    </tr>\n",
              "    <tr>\n",
              "      <th>3</th>\n",
              "      <td>t_0006d41a73a8</td>\n",
              "      <td>c_0c6473c3480d c_1c57a1316568 c_5e375cf14c47 c...</td>\n",
              "    </tr>\n",
              "    <tr>\n",
              "      <th>4</th>\n",
              "      <td>t_0008768bdee6</td>\n",
              "      <td>c_34e1424229b4 c_7d1a964d66d5 c_aab93ee667f4</td>\n",
              "    </tr>\n",
              "  </tbody>\n",
              "</table>\n",
              "</div>\n",
              "      <button class=\"colab-df-convert\" onclick=\"convertToInteractive('df-0cff3921-9dbd-4d1b-b300-3053ac8efd4d')\"\n",
              "              title=\"Convert this dataframe to an interactive table.\"\n",
              "              style=\"display:none;\">\n",
              "        \n",
              "  <svg xmlns=\"http://www.w3.org/2000/svg\" height=\"24px\"viewBox=\"0 0 24 24\"\n",
              "       width=\"24px\">\n",
              "    <path d=\"M0 0h24v24H0V0z\" fill=\"none\"/>\n",
              "    <path d=\"M18.56 5.44l.94 2.06.94-2.06 2.06-.94-2.06-.94-.94-2.06-.94 2.06-2.06.94zm-11 1L8.5 8.5l.94-2.06 2.06-.94-2.06-.94L8.5 2.5l-.94 2.06-2.06.94zm10 10l.94 2.06.94-2.06 2.06-.94-2.06-.94-.94-2.06-.94 2.06-2.06.94z\"/><path d=\"M17.41 7.96l-1.37-1.37c-.4-.4-.92-.59-1.43-.59-.52 0-1.04.2-1.43.59L10.3 9.45l-7.72 7.72c-.78.78-.78 2.05 0 2.83L4 21.41c.39.39.9.59 1.41.59.51 0 1.02-.2 1.41-.59l7.78-7.78 2.81-2.81c.8-.78.8-2.07 0-2.86zM5.41 20L4 18.59l7.72-7.72 1.47 1.35L5.41 20z\"/>\n",
              "  </svg>\n",
              "      </button>\n",
              "      \n",
              "  <style>\n",
              "    .colab-df-container {\n",
              "      display:flex;\n",
              "      flex-wrap:wrap;\n",
              "      gap: 12px;\n",
              "    }\n",
              "\n",
              "    .colab-df-convert {\n",
              "      background-color: #E8F0FE;\n",
              "      border: none;\n",
              "      border-radius: 50%;\n",
              "      cursor: pointer;\n",
              "      display: none;\n",
              "      fill: #1967D2;\n",
              "      height: 32px;\n",
              "      padding: 0 0 0 0;\n",
              "      width: 32px;\n",
              "    }\n",
              "\n",
              "    .colab-df-convert:hover {\n",
              "      background-color: #E2EBFA;\n",
              "      box-shadow: 0px 1px 2px rgba(60, 64, 67, 0.3), 0px 1px 3px 1px rgba(60, 64, 67, 0.15);\n",
              "      fill: #174EA6;\n",
              "    }\n",
              "\n",
              "    [theme=dark] .colab-df-convert {\n",
              "      background-color: #3B4455;\n",
              "      fill: #D2E3FC;\n",
              "    }\n",
              "\n",
              "    [theme=dark] .colab-df-convert:hover {\n",
              "      background-color: #434B5C;\n",
              "      box-shadow: 0px 1px 3px 1px rgba(0, 0, 0, 0.15);\n",
              "      filter: drop-shadow(0px 1px 2px rgba(0, 0, 0, 0.3));\n",
              "      fill: #FFFFFF;\n",
              "    }\n",
              "  </style>\n",
              "\n",
              "      <script>\n",
              "        const buttonEl =\n",
              "          document.querySelector('#df-0cff3921-9dbd-4d1b-b300-3053ac8efd4d button.colab-df-convert');\n",
              "        buttonEl.style.display =\n",
              "          google.colab.kernel.accessAllowed ? 'block' : 'none';\n",
              "\n",
              "        async function convertToInteractive(key) {\n",
              "          const element = document.querySelector('#df-0cff3921-9dbd-4d1b-b300-3053ac8efd4d');\n",
              "          const dataTable =\n",
              "            await google.colab.kernel.invokeFunction('convertToInteractive',\n",
              "                                                     [key], {});\n",
              "          if (!dataTable) return;\n",
              "\n",
              "          const docLinkHtml = 'Like what you see? Visit the ' +\n",
              "            '<a target=\"_blank\" href=https://colab.research.google.com/notebooks/data_table.ipynb>data table notebook</a>'\n",
              "            + ' to learn more about interactive tables.';\n",
              "          element.innerHTML = '';\n",
              "          dataTable['output_type'] = 'display_data';\n",
              "          await google.colab.output.renderOutput(dataTable, element);\n",
              "          const docLink = document.createElement('div');\n",
              "          docLink.innerHTML = docLinkHtml;\n",
              "          element.appendChild(docLink);\n",
              "        }\n",
              "      </script>\n",
              "    </div>\n",
              "  </div>\n",
              "  "
            ]
          },
          "metadata": {},
          "execution_count": 8
        }
      ]
    },
    {
      "cell_type": "code",
      "source": [
        "# Find all topic titles\n",
        "topic_df[\"title\"].value_counts()"
      ],
      "metadata": {
        "colab": {
          "base_uri": "https://localhost:8080/"
        },
        "id": "4ptWwS3g4WUN",
        "outputId": "d04131b0-4211-44b4-dc85-6113b86a9aea"
      },
      "execution_count": 9,
      "outputs": [
        {
          "output_type": "execute_result",
          "data": {
            "text/plain": [
              "Assessments                                                       558\n",
              "Videos                                                            341\n",
              "Explore                                                           322\n",
              "Lección 1                                                         306\n",
              "Lección 2                                                         280\n",
              "                                                                 ... \n",
              "Design Thinking                                                     1\n",
              "Ionic equilibrium: Acids, bases, & salts                            1\n",
              "Subtracting One-digit Numbers - Word Problems                       1\n",
              "Графики на експоненциални функции                                   1\n",
              "تحديد العلاقة بين الإحداثيّات القطبية والإحداثيّات الديكارتيّة      1\n",
              "Name: title, Length: 45082, dtype: int64"
            ]
          },
          "metadata": {},
          "execution_count": 9
        }
      ]
    },
    {
      "cell_type": "code",
      "source": [
        "len(pd.unique(topic_df[\"title\"]))"
      ],
      "metadata": {
        "colab": {
          "base_uri": "https://localhost:8080/"
        },
        "id": "eEaR-yvd7V40",
        "outputId": "275e2003-49b1-41dc-8886-929c9311c477"
      },
      "execution_count": 10,
      "outputs": [
        {
          "output_type": "execute_result",
          "data": {
            "text/plain": [
              "45083"
            ]
          },
          "metadata": {},
          "execution_count": 10
        }
      ]
    },
    {
      "cell_type": "code",
      "source": [
        "# Check if same title can be assigned to different parents\n",
        "topic_df[topic_df[\"title\"] == \"Assessments\"].head()"
      ],
      "metadata": {
        "colab": {
          "base_uri": "https://localhost:8080/",
          "height": 206
        },
        "id": "HR372pBz5pSW",
        "outputId": "32ae73d4-2432-4709-ab62-1436ba7772a7"
      },
      "execution_count": 11,
      "outputs": [
        {
          "output_type": "execute_result",
          "data": {
            "text/plain": [
              "                 id        title description channel      category  level  \\\n",
              "100  t_006038bb5e62  Assessments         NaN  274269  supplemental      5   \n",
              "146  t_008ae6ade193  Assessments         NaN  274269  supplemental      5   \n",
              "234  t_00d443c50d2d  Assessments         NaN  760ea6  supplemental      4   \n",
              "258  t_00e6e083fda9  Assessments         NaN  760ea6  supplemental      4   \n",
              "303  t_0112beb69348  Assessments         NaN  274269  supplemental      5   \n",
              "\n",
              "    language          parent  has_content  \n",
              "100       en  t_a6c4dc8775b0         True  \n",
              "146       en  t_34ee4c2d62c6         True  \n",
              "234       en  t_2b2c076d875a        False  \n",
              "258       en  t_bfd6a702b751         True  \n",
              "303       en  t_d14f95a724cf         True  "
            ],
            "text/html": [
              "\n",
              "  <div id=\"df-24d51780-003c-4ef4-a0ed-8e9ecee2507a\">\n",
              "    <div class=\"colab-df-container\">\n",
              "      <div>\n",
              "<style scoped>\n",
              "    .dataframe tbody tr th:only-of-type {\n",
              "        vertical-align: middle;\n",
              "    }\n",
              "\n",
              "    .dataframe tbody tr th {\n",
              "        vertical-align: top;\n",
              "    }\n",
              "\n",
              "    .dataframe thead th {\n",
              "        text-align: right;\n",
              "    }\n",
              "</style>\n",
              "<table border=\"1\" class=\"dataframe\">\n",
              "  <thead>\n",
              "    <tr style=\"text-align: right;\">\n",
              "      <th></th>\n",
              "      <th>id</th>\n",
              "      <th>title</th>\n",
              "      <th>description</th>\n",
              "      <th>channel</th>\n",
              "      <th>category</th>\n",
              "      <th>level</th>\n",
              "      <th>language</th>\n",
              "      <th>parent</th>\n",
              "      <th>has_content</th>\n",
              "    </tr>\n",
              "  </thead>\n",
              "  <tbody>\n",
              "    <tr>\n",
              "      <th>100</th>\n",
              "      <td>t_006038bb5e62</td>\n",
              "      <td>Assessments</td>\n",
              "      <td>NaN</td>\n",
              "      <td>274269</td>\n",
              "      <td>supplemental</td>\n",
              "      <td>5</td>\n",
              "      <td>en</td>\n",
              "      <td>t_a6c4dc8775b0</td>\n",
              "      <td>True</td>\n",
              "    </tr>\n",
              "    <tr>\n",
              "      <th>146</th>\n",
              "      <td>t_008ae6ade193</td>\n",
              "      <td>Assessments</td>\n",
              "      <td>NaN</td>\n",
              "      <td>274269</td>\n",
              "      <td>supplemental</td>\n",
              "      <td>5</td>\n",
              "      <td>en</td>\n",
              "      <td>t_34ee4c2d62c6</td>\n",
              "      <td>True</td>\n",
              "    </tr>\n",
              "    <tr>\n",
              "      <th>234</th>\n",
              "      <td>t_00d443c50d2d</td>\n",
              "      <td>Assessments</td>\n",
              "      <td>NaN</td>\n",
              "      <td>760ea6</td>\n",
              "      <td>supplemental</td>\n",
              "      <td>4</td>\n",
              "      <td>en</td>\n",
              "      <td>t_2b2c076d875a</td>\n",
              "      <td>False</td>\n",
              "    </tr>\n",
              "    <tr>\n",
              "      <th>258</th>\n",
              "      <td>t_00e6e083fda9</td>\n",
              "      <td>Assessments</td>\n",
              "      <td>NaN</td>\n",
              "      <td>760ea6</td>\n",
              "      <td>supplemental</td>\n",
              "      <td>4</td>\n",
              "      <td>en</td>\n",
              "      <td>t_bfd6a702b751</td>\n",
              "      <td>True</td>\n",
              "    </tr>\n",
              "    <tr>\n",
              "      <th>303</th>\n",
              "      <td>t_0112beb69348</td>\n",
              "      <td>Assessments</td>\n",
              "      <td>NaN</td>\n",
              "      <td>274269</td>\n",
              "      <td>supplemental</td>\n",
              "      <td>5</td>\n",
              "      <td>en</td>\n",
              "      <td>t_d14f95a724cf</td>\n",
              "      <td>True</td>\n",
              "    </tr>\n",
              "  </tbody>\n",
              "</table>\n",
              "</div>\n",
              "      <button class=\"colab-df-convert\" onclick=\"convertToInteractive('df-24d51780-003c-4ef4-a0ed-8e9ecee2507a')\"\n",
              "              title=\"Convert this dataframe to an interactive table.\"\n",
              "              style=\"display:none;\">\n",
              "        \n",
              "  <svg xmlns=\"http://www.w3.org/2000/svg\" height=\"24px\"viewBox=\"0 0 24 24\"\n",
              "       width=\"24px\">\n",
              "    <path d=\"M0 0h24v24H0V0z\" fill=\"none\"/>\n",
              "    <path d=\"M18.56 5.44l.94 2.06.94-2.06 2.06-.94-2.06-.94-.94-2.06-.94 2.06-2.06.94zm-11 1L8.5 8.5l.94-2.06 2.06-.94-2.06-.94L8.5 2.5l-.94 2.06-2.06.94zm10 10l.94 2.06.94-2.06 2.06-.94-2.06-.94-.94-2.06-.94 2.06-2.06.94z\"/><path d=\"M17.41 7.96l-1.37-1.37c-.4-.4-.92-.59-1.43-.59-.52 0-1.04.2-1.43.59L10.3 9.45l-7.72 7.72c-.78.78-.78 2.05 0 2.83L4 21.41c.39.39.9.59 1.41.59.51 0 1.02-.2 1.41-.59l7.78-7.78 2.81-2.81c.8-.78.8-2.07 0-2.86zM5.41 20L4 18.59l7.72-7.72 1.47 1.35L5.41 20z\"/>\n",
              "  </svg>\n",
              "      </button>\n",
              "      \n",
              "  <style>\n",
              "    .colab-df-container {\n",
              "      display:flex;\n",
              "      flex-wrap:wrap;\n",
              "      gap: 12px;\n",
              "    }\n",
              "\n",
              "    .colab-df-convert {\n",
              "      background-color: #E8F0FE;\n",
              "      border: none;\n",
              "      border-radius: 50%;\n",
              "      cursor: pointer;\n",
              "      display: none;\n",
              "      fill: #1967D2;\n",
              "      height: 32px;\n",
              "      padding: 0 0 0 0;\n",
              "      width: 32px;\n",
              "    }\n",
              "\n",
              "    .colab-df-convert:hover {\n",
              "      background-color: #E2EBFA;\n",
              "      box-shadow: 0px 1px 2px rgba(60, 64, 67, 0.3), 0px 1px 3px 1px rgba(60, 64, 67, 0.15);\n",
              "      fill: #174EA6;\n",
              "    }\n",
              "\n",
              "    [theme=dark] .colab-df-convert {\n",
              "      background-color: #3B4455;\n",
              "      fill: #D2E3FC;\n",
              "    }\n",
              "\n",
              "    [theme=dark] .colab-df-convert:hover {\n",
              "      background-color: #434B5C;\n",
              "      box-shadow: 0px 1px 3px 1px rgba(0, 0, 0, 0.15);\n",
              "      filter: drop-shadow(0px 1px 2px rgba(0, 0, 0, 0.3));\n",
              "      fill: #FFFFFF;\n",
              "    }\n",
              "  </style>\n",
              "\n",
              "      <script>\n",
              "        const buttonEl =\n",
              "          document.querySelector('#df-24d51780-003c-4ef4-a0ed-8e9ecee2507a button.colab-df-convert');\n",
              "        buttonEl.style.display =\n",
              "          google.colab.kernel.accessAllowed ? 'block' : 'none';\n",
              "\n",
              "        async function convertToInteractive(key) {\n",
              "          const element = document.querySelector('#df-24d51780-003c-4ef4-a0ed-8e9ecee2507a');\n",
              "          const dataTable =\n",
              "            await google.colab.kernel.invokeFunction('convertToInteractive',\n",
              "                                                     [key], {});\n",
              "          if (!dataTable) return;\n",
              "\n",
              "          const docLinkHtml = 'Like what you see? Visit the ' +\n",
              "            '<a target=\"_blank\" href=https://colab.research.google.com/notebooks/data_table.ipynb>data table notebook</a>'\n",
              "            + ' to learn more about interactive tables.';\n",
              "          element.innerHTML = '';\n",
              "          dataTable['output_type'] = 'display_data';\n",
              "          await google.colab.output.renderOutput(dataTable, element);\n",
              "          const docLink = document.createElement('div');\n",
              "          docLink.innerHTML = docLinkHtml;\n",
              "          element.appendChild(docLink);\n",
              "        }\n",
              "      </script>\n",
              "    </div>\n",
              "  </div>\n",
              "  "
            ]
          },
          "metadata": {},
          "execution_count": 11
        }
      ]
    },
    {
      "cell_type": "code",
      "source": [
        "# Check if top-level parent topics can have content\n",
        "topic_df[(topic_df[\"has_content\"] == True) & (topic_df[\"parent\"].isna())]"
      ],
      "metadata": {
        "colab": {
          "base_uri": "https://localhost:8080/",
          "height": 363
        },
        "id": "KsWkPnev763c",
        "outputId": "eb75cd84-cc92-4085-940e-25317f3dfd9a"
      },
      "execution_count": 12,
      "outputs": [
        {
          "output_type": "execute_result",
          "data": {
            "text/plain": [
              "                   id                                              title  \\\n",
              "4791   t_10035396d740  قناة كم كلمة لتمكين المعلّمين الناطقين باللغة ...   \n",
              "14579  t_30dd476279c8                                           Medicine   \n",
              "18764  t_3efcae0132f0                    وزارة التربية والتعليم الأردنية   \n",
              "21106  t_470986f56fbe       Khan Academy - Standardized Test Preparation   \n",
              "34384  t_72d1321023d9               Matemáticas Quinto Grado (Guatemala)   \n",
              "46122  t_9a710f5bd2da                          Kolibri Library for Kenya   \n",
              "50600  t_a93e389f0f1a                      Rajasthan State Hindi Channel   \n",
              "57457  t_bff0c73af728                        Malawi Mathematics Syllabus   \n",
              "66200  t_dcb302962e2f                                        Laboratoria   \n",
              "67434  t_e0a4d54ef541                                        High School   \n",
              "\n",
              "      description channel      category  level language parent  has_content  \n",
              "4791          NaN  8dd5f3        source      0       ar    NaN         True  \n",
              "14579         NaN  cc360a  supplemental      0       en    NaN         True  \n",
              "18764         NaN  5139e9        source      0       ar    NaN         True  \n",
              "21106         NaN  653433        source      0       en    NaN         True  \n",
              "34384         NaN  f9db19       aligned      0       es    NaN         True  \n",
              "46122         NaN  c7ca13       aligned      0       en    NaN         True  \n",
              "50600         NaN  d2ac0e  supplemental      0       hi    NaN         True  \n",
              "57457         NaN  a91e32       aligned      0       en    NaN         True  \n",
              "66200         NaN  fc9105  supplemental      0       es    NaN         True  \n",
              "67434         NaN  50fe84  supplemental      0       en    NaN         True  "
            ],
            "text/html": [
              "\n",
              "  <div id=\"df-af933ac3-682a-493a-a056-8445bdae431d\">\n",
              "    <div class=\"colab-df-container\">\n",
              "      <div>\n",
              "<style scoped>\n",
              "    .dataframe tbody tr th:only-of-type {\n",
              "        vertical-align: middle;\n",
              "    }\n",
              "\n",
              "    .dataframe tbody tr th {\n",
              "        vertical-align: top;\n",
              "    }\n",
              "\n",
              "    .dataframe thead th {\n",
              "        text-align: right;\n",
              "    }\n",
              "</style>\n",
              "<table border=\"1\" class=\"dataframe\">\n",
              "  <thead>\n",
              "    <tr style=\"text-align: right;\">\n",
              "      <th></th>\n",
              "      <th>id</th>\n",
              "      <th>title</th>\n",
              "      <th>description</th>\n",
              "      <th>channel</th>\n",
              "      <th>category</th>\n",
              "      <th>level</th>\n",
              "      <th>language</th>\n",
              "      <th>parent</th>\n",
              "      <th>has_content</th>\n",
              "    </tr>\n",
              "  </thead>\n",
              "  <tbody>\n",
              "    <tr>\n",
              "      <th>4791</th>\n",
              "      <td>t_10035396d740</td>\n",
              "      <td>قناة كم كلمة لتمكين المعلّمين الناطقين باللغة ...</td>\n",
              "      <td>NaN</td>\n",
              "      <td>8dd5f3</td>\n",
              "      <td>source</td>\n",
              "      <td>0</td>\n",
              "      <td>ar</td>\n",
              "      <td>NaN</td>\n",
              "      <td>True</td>\n",
              "    </tr>\n",
              "    <tr>\n",
              "      <th>14579</th>\n",
              "      <td>t_30dd476279c8</td>\n",
              "      <td>Medicine</td>\n",
              "      <td>NaN</td>\n",
              "      <td>cc360a</td>\n",
              "      <td>supplemental</td>\n",
              "      <td>0</td>\n",
              "      <td>en</td>\n",
              "      <td>NaN</td>\n",
              "      <td>True</td>\n",
              "    </tr>\n",
              "    <tr>\n",
              "      <th>18764</th>\n",
              "      <td>t_3efcae0132f0</td>\n",
              "      <td>وزارة التربية والتعليم الأردنية</td>\n",
              "      <td>NaN</td>\n",
              "      <td>5139e9</td>\n",
              "      <td>source</td>\n",
              "      <td>0</td>\n",
              "      <td>ar</td>\n",
              "      <td>NaN</td>\n",
              "      <td>True</td>\n",
              "    </tr>\n",
              "    <tr>\n",
              "      <th>21106</th>\n",
              "      <td>t_470986f56fbe</td>\n",
              "      <td>Khan Academy - Standardized Test Preparation</td>\n",
              "      <td>NaN</td>\n",
              "      <td>653433</td>\n",
              "      <td>source</td>\n",
              "      <td>0</td>\n",
              "      <td>en</td>\n",
              "      <td>NaN</td>\n",
              "      <td>True</td>\n",
              "    </tr>\n",
              "    <tr>\n",
              "      <th>34384</th>\n",
              "      <td>t_72d1321023d9</td>\n",
              "      <td>Matemáticas Quinto Grado (Guatemala)</td>\n",
              "      <td>NaN</td>\n",
              "      <td>f9db19</td>\n",
              "      <td>aligned</td>\n",
              "      <td>0</td>\n",
              "      <td>es</td>\n",
              "      <td>NaN</td>\n",
              "      <td>True</td>\n",
              "    </tr>\n",
              "    <tr>\n",
              "      <th>46122</th>\n",
              "      <td>t_9a710f5bd2da</td>\n",
              "      <td>Kolibri Library for Kenya</td>\n",
              "      <td>NaN</td>\n",
              "      <td>c7ca13</td>\n",
              "      <td>aligned</td>\n",
              "      <td>0</td>\n",
              "      <td>en</td>\n",
              "      <td>NaN</td>\n",
              "      <td>True</td>\n",
              "    </tr>\n",
              "    <tr>\n",
              "      <th>50600</th>\n",
              "      <td>t_a93e389f0f1a</td>\n",
              "      <td>Rajasthan State Hindi Channel</td>\n",
              "      <td>NaN</td>\n",
              "      <td>d2ac0e</td>\n",
              "      <td>supplemental</td>\n",
              "      <td>0</td>\n",
              "      <td>hi</td>\n",
              "      <td>NaN</td>\n",
              "      <td>True</td>\n",
              "    </tr>\n",
              "    <tr>\n",
              "      <th>57457</th>\n",
              "      <td>t_bff0c73af728</td>\n",
              "      <td>Malawi Mathematics Syllabus</td>\n",
              "      <td>NaN</td>\n",
              "      <td>a91e32</td>\n",
              "      <td>aligned</td>\n",
              "      <td>0</td>\n",
              "      <td>en</td>\n",
              "      <td>NaN</td>\n",
              "      <td>True</td>\n",
              "    </tr>\n",
              "    <tr>\n",
              "      <th>66200</th>\n",
              "      <td>t_dcb302962e2f</td>\n",
              "      <td>Laboratoria</td>\n",
              "      <td>NaN</td>\n",
              "      <td>fc9105</td>\n",
              "      <td>supplemental</td>\n",
              "      <td>0</td>\n",
              "      <td>es</td>\n",
              "      <td>NaN</td>\n",
              "      <td>True</td>\n",
              "    </tr>\n",
              "    <tr>\n",
              "      <th>67434</th>\n",
              "      <td>t_e0a4d54ef541</td>\n",
              "      <td>High School</td>\n",
              "      <td>NaN</td>\n",
              "      <td>50fe84</td>\n",
              "      <td>supplemental</td>\n",
              "      <td>0</td>\n",
              "      <td>en</td>\n",
              "      <td>NaN</td>\n",
              "      <td>True</td>\n",
              "    </tr>\n",
              "  </tbody>\n",
              "</table>\n",
              "</div>\n",
              "      <button class=\"colab-df-convert\" onclick=\"convertToInteractive('df-af933ac3-682a-493a-a056-8445bdae431d')\"\n",
              "              title=\"Convert this dataframe to an interactive table.\"\n",
              "              style=\"display:none;\">\n",
              "        \n",
              "  <svg xmlns=\"http://www.w3.org/2000/svg\" height=\"24px\"viewBox=\"0 0 24 24\"\n",
              "       width=\"24px\">\n",
              "    <path d=\"M0 0h24v24H0V0z\" fill=\"none\"/>\n",
              "    <path d=\"M18.56 5.44l.94 2.06.94-2.06 2.06-.94-2.06-.94-.94-2.06-.94 2.06-2.06.94zm-11 1L8.5 8.5l.94-2.06 2.06-.94-2.06-.94L8.5 2.5l-.94 2.06-2.06.94zm10 10l.94 2.06.94-2.06 2.06-.94-2.06-.94-.94-2.06-.94 2.06-2.06.94z\"/><path d=\"M17.41 7.96l-1.37-1.37c-.4-.4-.92-.59-1.43-.59-.52 0-1.04.2-1.43.59L10.3 9.45l-7.72 7.72c-.78.78-.78 2.05 0 2.83L4 21.41c.39.39.9.59 1.41.59.51 0 1.02-.2 1.41-.59l7.78-7.78 2.81-2.81c.8-.78.8-2.07 0-2.86zM5.41 20L4 18.59l7.72-7.72 1.47 1.35L5.41 20z\"/>\n",
              "  </svg>\n",
              "      </button>\n",
              "      \n",
              "  <style>\n",
              "    .colab-df-container {\n",
              "      display:flex;\n",
              "      flex-wrap:wrap;\n",
              "      gap: 12px;\n",
              "    }\n",
              "\n",
              "    .colab-df-convert {\n",
              "      background-color: #E8F0FE;\n",
              "      border: none;\n",
              "      border-radius: 50%;\n",
              "      cursor: pointer;\n",
              "      display: none;\n",
              "      fill: #1967D2;\n",
              "      height: 32px;\n",
              "      padding: 0 0 0 0;\n",
              "      width: 32px;\n",
              "    }\n",
              "\n",
              "    .colab-df-convert:hover {\n",
              "      background-color: #E2EBFA;\n",
              "      box-shadow: 0px 1px 2px rgba(60, 64, 67, 0.3), 0px 1px 3px 1px rgba(60, 64, 67, 0.15);\n",
              "      fill: #174EA6;\n",
              "    }\n",
              "\n",
              "    [theme=dark] .colab-df-convert {\n",
              "      background-color: #3B4455;\n",
              "      fill: #D2E3FC;\n",
              "    }\n",
              "\n",
              "    [theme=dark] .colab-df-convert:hover {\n",
              "      background-color: #434B5C;\n",
              "      box-shadow: 0px 1px 3px 1px rgba(0, 0, 0, 0.15);\n",
              "      filter: drop-shadow(0px 1px 2px rgba(0, 0, 0, 0.3));\n",
              "      fill: #FFFFFF;\n",
              "    }\n",
              "  </style>\n",
              "\n",
              "      <script>\n",
              "        const buttonEl =\n",
              "          document.querySelector('#df-af933ac3-682a-493a-a056-8445bdae431d button.colab-df-convert');\n",
              "        buttonEl.style.display =\n",
              "          google.colab.kernel.accessAllowed ? 'block' : 'none';\n",
              "\n",
              "        async function convertToInteractive(key) {\n",
              "          const element = document.querySelector('#df-af933ac3-682a-493a-a056-8445bdae431d');\n",
              "          const dataTable =\n",
              "            await google.colab.kernel.invokeFunction('convertToInteractive',\n",
              "                                                     [key], {});\n",
              "          if (!dataTable) return;\n",
              "\n",
              "          const docLinkHtml = 'Like what you see? Visit the ' +\n",
              "            '<a target=\"_blank\" href=https://colab.research.google.com/notebooks/data_table.ipynb>data table notebook</a>'\n",
              "            + ' to learn more about interactive tables.';\n",
              "          element.innerHTML = '';\n",
              "          dataTable['output_type'] = 'display_data';\n",
              "          await google.colab.output.renderOutput(dataTable, element);\n",
              "          const docLink = document.createElement('div');\n",
              "          docLink.innerHTML = docLinkHtml;\n",
              "          element.appendChild(docLink);\n",
              "        }\n",
              "      </script>\n",
              "    </div>\n",
              "  </div>\n",
              "  "
            ]
          },
          "metadata": {},
          "execution_count": 12
        }
      ]
    },
    {
      "cell_type": "markdown",
      "source": [
        "Findings from topic analysis:\n",
        "* There are 45083 unique topics titles in the dataset\n",
        "* The same topic title can be the child of different parents\n",
        "* It is very rare that content is assigned at the first node, but common enought to be relevant at intermediate nodes.\n"
      ],
      "metadata": {
        "id": "imo6wMkx5CcW"
      }
    },
    {
      "cell_type": "code",
      "source": [
        "# Relative breakdown of content kinds\n",
        "content_df[\"kind\"].value_counts().plot(kind=\"bar\");"
      ],
      "metadata": {
        "colab": {
          "base_uri": "https://localhost:8080/",
          "height": 306
        },
        "id": "ydky8Mfw7DHr",
        "outputId": "c9833841-ff4f-40ea-b47a-e152aa1d5530"
      },
      "execution_count": 13,
      "outputs": [
        {
          "output_type": "display_data",
          "data": {
            "text/plain": [
              "<Figure size 432x288 with 1 Axes>"
            ],
            "image/png": "[encoded data removed]"
          },
          "metadata": {
            "needs_background": "light"
          }
        }
      ]
    },
    {
      "cell_type": "markdown",
      "source": [
        "Findings from content analysis:\n",
        "* Largest kind of content is video, fewest is audio"
      ],
      "metadata": {
        "id": "YBzdediPAOJx"
      }
    },
    {
      "cell_type": "markdown",
      "source": [
        "## Data Cleansing and Prep\n",
        "\n",
        "Before a model can be trained, the data needs to be cleansed. This will include the following steps:\n",
        "* Remove rows without titles (very small number, low impact to dataset)\n",
        "* Get label (topic) from `correlations.csv`\n",
        "* Split content into train, validation, and test datasets\n",
        "* Fill all NA values in each series of the dataframe\n",
        "* Convert all category values to integers\n",
        "* Normalize numeric values"
      ],
      "metadata": {
        "id": "cYt1l312BysJ"
      }
    },
    {
      "cell_type": "markdown",
      "source": [
        "### Remove NA Titles"
      ],
      "metadata": {
        "id": "XGesITxyIjsh"
      }
    },
    {
      "cell_type": "code",
      "source": [
        "topic_df.isna().sum()"
      ],
      "metadata": {
        "colab": {
          "base_uri": "https://localhost:8080/"
        },
        "id": "vEn2AU6ZCbu8",
        "outputId": "45809c62-b420-4476-a693-8ee5eb2ca3a7"
      },
      "execution_count": 14,
      "outputs": [
        {
          "output_type": "execute_result",
          "data": {
            "text/plain": [
              "id                 0\n",
              "title              2\n",
              "description    42019\n",
              "channel            0\n",
              "category           0\n",
              "level              0\n",
              "language           0\n",
              "parent           171\n",
              "has_content        0\n",
              "dtype: int64"
            ]
          },
          "metadata": {},
          "execution_count": 14
        }
      ]
    },
    {
      "cell_type": "code",
      "source": [
        "content_df.isna().sum()"
      ],
      "metadata": {
        "colab": {
          "base_uri": "https://localhost:8080/"
        },
        "id": "FYwUZhCpFPNZ",
        "outputId": "c6c292c6-a755-4861-f990-954e96558c3f"
      },
      "execution_count": 15,
      "outputs": [
        {
          "output_type": "execute_result",
          "data": {
            "text/plain": [
              "id                      0\n",
              "title                   9\n",
              "description         64591\n",
              "kind                    0\n",
              "text                80012\n",
              "language                0\n",
              "copyright_holder    82226\n",
              "license             80012\n",
              "dtype: int64"
            ]
          },
          "metadata": {},
          "execution_count": 15
        }
      ]
    },
    {
      "cell_type": "code",
      "source": [
        "# Remove rows without titles\n",
        "topic_df.dropna(axis=0, subset=[\"title\"], inplace=True)\n",
        "topic_df.isna().sum()"
      ],
      "metadata": {
        "colab": {
          "base_uri": "https://localhost:8080/"
        },
        "id": "6VKKznMgGtGh",
        "outputId": "6cf1f1e9-0a91-4931-f276-c37fdbc94801"
      },
      "execution_count": 16,
      "outputs": [
        {
          "output_type": "execute_result",
          "data": {
            "text/plain": [
              "id                 0\n",
              "title              0\n",
              "description    42018\n",
              "channel            0\n",
              "category           0\n",
              "level              0\n",
              "language           0\n",
              "parent           171\n",
              "has_content        0\n",
              "dtype: int64"
            ]
          },
          "metadata": {},
          "execution_count": 16
        }
      ]
    },
    {
      "cell_type": "code",
      "source": [
        "# Remove rows without titles\n",
        "content_df.dropna(axis=0, subset=[\"title\"], inplace=True)\n",
        "content_df.isna().sum()"
      ],
      "metadata": {
        "colab": {
          "base_uri": "https://localhost:8080/"
        },
        "id": "7cCCYFR2HKeA",
        "outputId": "5a0e9713-94a0-4ddf-91c9-682d6149c26f"
      },
      "execution_count": 17,
      "outputs": [
        {
          "output_type": "execute_result",
          "data": {
            "text/plain": [
              "id                      0\n",
              "title                   0\n",
              "description         64585\n",
              "kind                    0\n",
              "text                80012\n",
              "language                0\n",
              "copyright_holder    82226\n",
              "license             80012\n",
              "dtype: int64"
            ]
          },
          "metadata": {},
          "execution_count": 17
        }
      ]
    },
    {
      "cell_type": "markdown",
      "source": [
        "For remaining NaNs, validate datatype to determine suitability for category replacement or boolean."
      ],
      "metadata": {
        "id": "EBbL72NKInHq"
      }
    },
    {
      "cell_type": "code",
      "source": [
        "# Fill remaining NaNs with \"Missing\" or \"None\" as relevant\n",
        "topic_df[\"description\"].fillna(\"missing\", inplace=True)\n",
        "topic_df[\"parent\"].fillna(\"None\", inplace=True)\n",
        "\n",
        "content_df[\"description\"].fillna(\"missing\", inplace=True)\n",
        "content_df[\"text\"].fillna(\"missing\", inplace=True)\n",
        "content_df[\"copyright_holder\"].fillna(\"none\", inplace=True)\n",
        "content_df[\"license\"].fillna(\"none\", inplace=True)"
      ],
      "metadata": {
        "id": "stJziHR7x4em"
      },
      "execution_count": 18,
      "outputs": []
    },
    {
      "cell_type": "code",
      "source": [
        "topic_df.isna().sum()"
      ],
      "metadata": {
        "colab": {
          "base_uri": "https://localhost:8080/"
        },
        "id": "efhvKU5GzmW2",
        "outputId": "ddb642e3-52f4-4108-f7ac-575a7bfc7030"
      },
      "execution_count": 19,
      "outputs": [
        {
          "output_type": "execute_result",
          "data": {
            "text/plain": [
              "id             0\n",
              "title          0\n",
              "description    0\n",
              "channel        0\n",
              "category       0\n",
              "level          0\n",
              "language       0\n",
              "parent         0\n",
              "has_content    0\n",
              "dtype: int64"
            ]
          },
          "metadata": {},
          "execution_count": 19
        }
      ]
    },
    {
      "cell_type": "code",
      "source": [
        "content_df.isna().sum()"
      ],
      "metadata": {
        "colab": {
          "base_uri": "https://localhost:8080/"
        },
        "id": "mvTBpTZCzpuH",
        "outputId": "d4ecf068-e6eb-4f0a-caef-2afe822063a6"
      },
      "execution_count": 20,
      "outputs": [
        {
          "output_type": "execute_result",
          "data": {
            "text/plain": [
              "id                  0\n",
              "title               0\n",
              "description         0\n",
              "kind                0\n",
              "text                0\n",
              "language            0\n",
              "copyright_holder    0\n",
              "license             0\n",
              "dtype: int64"
            ]
          },
          "metadata": {},
          "execution_count": 20
        }
      ]
    },
    {
      "cell_type": "markdown",
      "source": [
        "### Add labels (topics) to `content` DataFrame\n",
        "\n",
        "* Define number of classes\n",
        "* Convert topic names to number to prepare for one_hot encoding\n",
        "* Convert `correlations` DataFrame to one row per content item\n",
        "* Merge with `content` DataFrame\n"
      ],
      "metadata": {
        "id": "mfjb-S8fInnq"
      }
    },
    {
      "cell_type": "code",
      "source": [
        "# Define number of classes as total number of topic names\n",
        "NUM_CLASSES = correlations_df[\"topic_id\"].nunique()\n",
        "NUM_CLASSES"
      ],
      "metadata": {
        "colab": {
          "base_uri": "https://localhost:8080/"
        },
        "id": "NE5PsdXn3pgH",
        "outputId": "8e911920-346d-40ef-bb51-c2b38aa40139"
      },
      "execution_count": 21,
      "outputs": [
        {
          "output_type": "execute_result",
          "data": {
            "text/plain": [
              "61517"
            ]
          },
          "metadata": {},
          "execution_count": 21
        }
      ]
    },
    {
      "cell_type": "code",
      "source": [
        "# Convert correlations DataFrame to one row per content item\n",
        "correlations_df[\"content_ids\"] = correlations_df[\"content_ids\"].apply(lambda x: x.split(\" \"))\n",
        "correlations_df = correlations_df.explode([\"content_ids\"])\n",
        "correlations_df.head()"
      ],
      "metadata": {
        "colab": {
          "base_uri": "https://localhost:8080/",
          "height": 206
        },
        "id": "kxPqfgKSI_sP",
        "outputId": "e67bda32-d3f5-4473-f67f-20d5f8d4077e"
      },
      "execution_count": 22,
      "outputs": [
        {
          "output_type": "execute_result",
          "data": {
            "text/plain": [
              "         topic_id     content_ids\n",
              "0  t_00004da3a1b2  c_1108dd0c7a5d\n",
              "0  t_00004da3a1b2  c_376c5a8eb028\n",
              "0  t_00004da3a1b2  c_5bc0e1e2cba0\n",
              "0  t_00004da3a1b2  c_76231f9d0b5e\n",
              "1  t_00068291e9a4  c_639ea2ef9c95"
            ],
            "text/html": [
              "\n",
              "  <div id=\"df-fe0ae159-fa74-4fc8-ba6e-efd62d9462fb\">\n",
              "    <div class=\"colab-df-container\">\n",
              "      <div>\n",
              "<style scoped>\n",
              "    .dataframe tbody tr th:only-of-type {\n",
              "        vertical-align: middle;\n",
              "    }\n",
              "\n",
              "    .dataframe tbody tr th {\n",
              "        vertical-align: top;\n",
              "    }\n",
              "\n",
              "    .dataframe thead th {\n",
              "        text-align: right;\n",
              "    }\n",
              "</style>\n",
              "<table border=\"1\" class=\"dataframe\">\n",
              "  <thead>\n",
              "    <tr style=\"text-align: right;\">\n",
              "      <th></th>\n",
              "      <th>topic_id</th>\n",
              "      <th>content_ids</th>\n",
              "    </tr>\n",
              "  </thead>\n",
              "  <tbody>\n",
              "    <tr>\n",
              "      <th>0</th>\n",
              "      <td>t_00004da3a1b2</td>\n",
              "      <td>c_1108dd0c7a5d</td>\n",
              "    </tr>\n",
              "    <tr>\n",
              "      <th>0</th>\n",
              "      <td>t_00004da3a1b2</td>\n",
              "      <td>c_376c5a8eb028</td>\n",
              "    </tr>\n",
              "    <tr>\n",
              "      <th>0</th>\n",
              "      <td>t_00004da3a1b2</td>\n",
              "      <td>c_5bc0e1e2cba0</td>\n",
              "    </tr>\n",
              "    <tr>\n",
              "      <th>0</th>\n",
              "      <td>t_00004da3a1b2</td>\n",
              "      <td>c_76231f9d0b5e</td>\n",
              "    </tr>\n",
              "    <tr>\n",
              "      <th>1</th>\n",
              "      <td>t_00068291e9a4</td>\n",
              "      <td>c_639ea2ef9c95</td>\n",
              "    </tr>\n",
              "  </tbody>\n",
              "</table>\n",
              "</div>\n",
              "      <button class=\"colab-df-convert\" onclick=\"convertToInteractive('df-fe0ae159-fa74-4fc8-ba6e-efd62d9462fb')\"\n",
              "              title=\"Convert this dataframe to an interactive table.\"\n",
              "              style=\"display:none;\">\n",
              "        \n",
              "  <svg xmlns=\"http://www.w3.org/2000/svg\" height=\"24px\"viewBox=\"0 0 24 24\"\n",
              "       width=\"24px\">\n",
              "    <path d=\"M0 0h24v24H0V0z\" fill=\"none\"/>\n",
              "    <path d=\"M18.56 5.44l.94 2.06.94-2.06 2.06-.94-2.06-.94-.94-2.06-.94 2.06-2.06.94zm-11 1L8.5 8.5l.94-2.06 2.06-.94-2.06-.94L8.5 2.5l-.94 2.06-2.06.94zm10 10l.94 2.06.94-2.06 2.06-.94-2.06-.94-.94-2.06-.94 2.06-2.06.94z\"/><path d=\"M17.41 7.96l-1.37-1.37c-.4-.4-.92-.59-1.43-.59-.52 0-1.04.2-1.43.59L10.3 9.45l-7.72 7.72c-.78.78-.78 2.05 0 2.83L4 21.41c.39.39.9.59 1.41.59.51 0 1.02-.2 1.41-.59l7.78-7.78 2.81-2.81c.8-.78.8-2.07 0-2.86zM5.41 20L4 18.59l7.72-7.72 1.47 1.35L5.41 20z\"/>\n",
              "  </svg>\n",
              "      </button>\n",
              "      \n",
              "  <style>\n",
              "    .colab-df-container {\n",
              "      display:flex;\n",
              "      flex-wrap:wrap;\n",
              "      gap: 12px;\n",
              "    }\n",
              "\n",
              "    .colab-df-convert {\n",
              "      background-color: #E8F0FE;\n",
              "      border: none;\n",
              "      border-radius: 50%;\n",
              "      cursor: pointer;\n",
              "      display: none;\n",
              "      fill: #1967D2;\n",
              "      height: 32px;\n",
              "      padding: 0 0 0 0;\n",
              "      width: 32px;\n",
              "    }\n",
              "\n",
              "    .colab-df-convert:hover {\n",
              "      background-color: #E2EBFA;\n",
              "      box-shadow: 0px 1px 2px rgba(60, 64, 67, 0.3), 0px 1px 3px 1px rgba(60, 64, 67, 0.15);\n",
              "      fill: #174EA6;\n",
              "    }\n",
              "\n",
              "    [theme=dark] .colab-df-convert {\n",
              "      background-color: #3B4455;\n",
              "      fill: #D2E3FC;\n",
              "    }\n",
              "\n",
              "    [theme=dark] .colab-df-convert:hover {\n",
              "      background-color: #434B5C;\n",
              "      box-shadow: 0px 1px 3px 1px rgba(0, 0, 0, 0.15);\n",
              "      filter: drop-shadow(0px 1px 2px rgba(0, 0, 0, 0.3));\n",
              "      fill: #FFFFFF;\n",
              "    }\n",
              "  </style>\n",
              "\n",
              "      <script>\n",
              "        const buttonEl =\n",
              "          document.querySelector('#df-fe0ae159-fa74-4fc8-ba6e-efd62d9462fb button.colab-df-convert');\n",
              "        buttonEl.style.display =\n",
              "          google.colab.kernel.accessAllowed ? 'block' : 'none';\n",
              "\n",
              "        async function convertToInteractive(key) {\n",
              "          const element = document.querySelector('#df-fe0ae159-fa74-4fc8-ba6e-efd62d9462fb');\n",
              "          const dataTable =\n",
              "            await google.colab.kernel.invokeFunction('convertToInteractive',\n",
              "                                                     [key], {});\n",
              "          if (!dataTable) return;\n",
              "\n",
              "          const docLinkHtml = 'Like what you see? Visit the ' +\n",
              "            '<a target=\"_blank\" href=https://colab.research.google.com/notebooks/data_table.ipynb>data table notebook</a>'\n",
              "            + ' to learn more about interactive tables.';\n",
              "          element.innerHTML = '';\n",
              "          dataTable['output_type'] = 'display_data';\n",
              "          await google.colab.output.renderOutput(dataTable, element);\n",
              "          const docLink = document.createElement('div');\n",
              "          docLink.innerHTML = docLinkHtml;\n",
              "          element.appendChild(docLink);\n",
              "        }\n",
              "      </script>\n",
              "    </div>\n",
              "  </div>\n",
              "  "
            ]
          },
          "metadata": {},
          "execution_count": 22
        }
      ]
    },
    {
      "cell_type": "code",
      "source": [
        "# Merge content table with correlations table to access label (topic_id)\n",
        "labeled_content_df = content_df.merge(correlations_df, left_on=\"id\", right_on=\"content_ids\")\n",
        "labeled_content_df.drop(columns=[\"content_ids\"], inplace=True)\n",
        "labeled_content_df.rename(columns={\"topic_id\": \"label\"}, inplace=True)\n",
        "labeled_content_df.head()"
      ],
      "metadata": {
        "colab": {
          "base_uri": "https://localhost:8080/",
          "height": 206
        },
        "id": "23-AZDxQG3UH",
        "outputId": "b4fb9fe8-a7e0-4a13-d399-7d18bc097db8"
      },
      "execution_count": 23,
      "outputs": [
        {
          "output_type": "execute_result",
          "data": {
            "text/plain": [
              "               id                                             title  \\\n",
              "0  c_00002381196d  Sumar números de varios dígitos: 48,029+233,930    \n",
              "1  c_00002381196d  Sumar números de varios dígitos: 48,029+233,930    \n",
              "2  c_00002381196d  Sumar números de varios dígitos: 48,029+233,930    \n",
              "3  c_00002381196d  Sumar números de varios dígitos: 48,029+233,930    \n",
              "4  c_00002381196d  Sumar números de varios dígitos: 48,029+233,930    \n",
              "\n",
              "                                         description   kind     text language  \\\n",
              "0  Suma 48,029+233,930 mediante el algoritmo está...  video  missing       es   \n",
              "1  Suma 48,029+233,930 mediante el algoritmo está...  video  missing       es   \n",
              "2  Suma 48,029+233,930 mediante el algoritmo está...  video  missing       es   \n",
              "3  Suma 48,029+233,930 mediante el algoritmo está...  video  missing       es   \n",
              "4  Suma 48,029+233,930 mediante el algoritmo está...  video  missing       es   \n",
              "\n",
              "  copyright_holder license           label  \n",
              "0             none    none  t_81be1094dd83  \n",
              "1             none    none  t_d0edb1c53d90  \n",
              "2             none    none  t_d66311c2e171  \n",
              "3             none    none  t_e696cda1adb6  \n",
              "4             none    none  t_f7f7dbd7d76a  "
            ],
            "text/html": [
              "\n",
              "  <div id=\"df-3fb6da1c-af79-4f19-a762-19562e950ccb\">\n",
              "    <div class=\"colab-df-container\">\n",
              "      <div>\n",
              "<style scoped>\n",
              "    .dataframe tbody tr th:only-of-type {\n",
              "        vertical-align: middle;\n",
              "    }\n",
              "\n",
              "    .dataframe tbody tr th {\n",
              "        vertical-align: top;\n",
              "    }\n",
              "\n",
              "    .dataframe thead th {\n",
              "        text-align: right;\n",
              "    }\n",
              "</style>\n",
              "<table border=\"1\" class=\"dataframe\">\n",
              "  <thead>\n",
              "    <tr style=\"text-align: right;\">\n",
              "      <th></th>\n",
              "      <th>id</th>\n",
              "      <th>title</th>\n",
              "      <th>description</th>\n",
              "      <th>kind</th>\n",
              "      <th>text</th>\n",
              "      <th>language</th>\n",
              "      <th>copyright_holder</th>\n",
              "      <th>license</th>\n",
              "      <th>label</th>\n",
              "    </tr>\n",
              "  </thead>\n",
              "  <tbody>\n",
              "    <tr>\n",
              "      <th>0</th>\n",
              "      <td>c_00002381196d</td>\n",
              "      <td>Sumar números de varios dígitos: 48,029+233,930</td>\n",
              "      <td>Suma 48,029+233,930 mediante el algoritmo está...</td>\n",
              "      <td>video</td>\n",
              "      <td>missing</td>\n",
              "      <td>es</td>\n",
              "      <td>none</td>\n",
              "      <td>none</td>\n",
              "      <td>t_81be1094dd83</td>\n",
              "    </tr>\n",
              "    <tr>\n",
              "      <th>1</th>\n",
              "      <td>c_00002381196d</td>\n",
              "      <td>Sumar números de varios dígitos: 48,029+233,930</td>\n",
              "      <td>Suma 48,029+233,930 mediante el algoritmo está...</td>\n",
              "      <td>video</td>\n",
              "      <td>missing</td>\n",
              "      <td>es</td>\n",
              "      <td>none</td>\n",
              "      <td>none</td>\n",
              "      <td>t_d0edb1c53d90</td>\n",
              "    </tr>\n",
              "    <tr>\n",
              "      <th>2</th>\n",
              "      <td>c_00002381196d</td>\n",
              "      <td>Sumar números de varios dígitos: 48,029+233,930</td>\n",
              "      <td>Suma 48,029+233,930 mediante el algoritmo está...</td>\n",
              "      <td>video</td>\n",
              "      <td>missing</td>\n",
              "      <td>es</td>\n",
              "      <td>none</td>\n",
              "      <td>none</td>\n",
              "      <td>t_d66311c2e171</td>\n",
              "    </tr>\n",
              "    <tr>\n",
              "      <th>3</th>\n",
              "      <td>c_00002381196d</td>\n",
              "      <td>Sumar números de varios dígitos: 48,029+233,930</td>\n",
              "      <td>Suma 48,029+233,930 mediante el algoritmo está...</td>\n",
              "      <td>video</td>\n",
              "      <td>missing</td>\n",
              "      <td>es</td>\n",
              "      <td>none</td>\n",
              "      <td>none</td>\n",
              "      <td>t_e696cda1adb6</td>\n",
              "    </tr>\n",
              "    <tr>\n",
              "      <th>4</th>\n",
              "      <td>c_00002381196d</td>\n",
              "      <td>Sumar números de varios dígitos: 48,029+233,930</td>\n",
              "      <td>Suma 48,029+233,930 mediante el algoritmo está...</td>\n",
              "      <td>video</td>\n",
              "      <td>missing</td>\n",
              "      <td>es</td>\n",
              "      <td>none</td>\n",
              "      <td>none</td>\n",
              "      <td>t_f7f7dbd7d76a</td>\n",
              "    </tr>\n",
              "  </tbody>\n",
              "</table>\n",
              "</div>\n",
              "      <button class=\"colab-df-convert\" onclick=\"convertToInteractive('df-3fb6da1c-af79-4f19-a762-19562e950ccb')\"\n",
              "              title=\"Convert this dataframe to an interactive table.\"\n",
              "              style=\"display:none;\">\n",
              "        \n",
              "  <svg xmlns=\"http://www.w3.org/2000/svg\" height=\"24px\"viewBox=\"0 0 24 24\"\n",
              "       width=\"24px\">\n",
              "    <path d=\"M0 0h24v24H0V0z\" fill=\"none\"/>\n",
              "    <path d=\"M18.56 5.44l.94 2.06.94-2.06 2.06-.94-2.06-.94-.94-2.06-.94 2.06-2.06.94zm-11 1L8.5 8.5l.94-2.06 2.06-.94-2.06-.94L8.5 2.5l-.94 2.06-2.06.94zm10 10l.94 2.06.94-2.06 2.06-.94-2.06-.94-.94-2.06-.94 2.06-2.06.94z\"/><path d=\"M17.41 7.96l-1.37-1.37c-.4-.4-.92-.59-1.43-.59-.52 0-1.04.2-1.43.59L10.3 9.45l-7.72 7.72c-.78.78-.78 2.05 0 2.83L4 21.41c.39.39.9.59 1.41.59.51 0 1.02-.2 1.41-.59l7.78-7.78 2.81-2.81c.8-.78.8-2.07 0-2.86zM5.41 20L4 18.59l7.72-7.72 1.47 1.35L5.41 20z\"/>\n",
              "  </svg>\n",
              "      </button>\n",
              "      \n",
              "  <style>\n",
              "    .colab-df-container {\n",
              "      display:flex;\n",
              "      flex-wrap:wrap;\n",
              "      gap: 12px;\n",
              "    }\n",
              "\n",
              "    .colab-df-convert {\n",
              "      background-color: #E8F0FE;\n",
              "      border: none;\n",
              "      border-radius: 50%;\n",
              "      cursor: pointer;\n",
              "      display: none;\n",
              "      fill: #1967D2;\n",
              "      height: 32px;\n",
              "      padding: 0 0 0 0;\n",
              "      width: 32px;\n",
              "    }\n",
              "\n",
              "    .colab-df-convert:hover {\n",
              "      background-color: #E2EBFA;\n",
              "      box-shadow: 0px 1px 2px rgba(60, 64, 67, 0.3), 0px 1px 3px 1px rgba(60, 64, 67, 0.15);\n",
              "      fill: #174EA6;\n",
              "    }\n",
              "\n",
              "    [theme=dark] .colab-df-convert {\n",
              "      background-color: #3B4455;\n",
              "      fill: #D2E3FC;\n",
              "    }\n",
              "\n",
              "    [theme=dark] .colab-df-convert:hover {\n",
              "      background-color: #434B5C;\n",
              "      box-shadow: 0px 1px 3px 1px rgba(0, 0, 0, 0.15);\n",
              "      filter: drop-shadow(0px 1px 2px rgba(0, 0, 0, 0.3));\n",
              "      fill: #FFFFFF;\n",
              "    }\n",
              "  </style>\n",
              "\n",
              "      <script>\n",
              "        const buttonEl =\n",
              "          document.querySelector('#df-3fb6da1c-af79-4f19-a762-19562e950ccb button.colab-df-convert');\n",
              "        buttonEl.style.display =\n",
              "          google.colab.kernel.accessAllowed ? 'block' : 'none';\n",
              "\n",
              "        async function convertToInteractive(key) {\n",
              "          const element = document.querySelector('#df-3fb6da1c-af79-4f19-a762-19562e950ccb');\n",
              "          const dataTable =\n",
              "            await google.colab.kernel.invokeFunction('convertToInteractive',\n",
              "                                                     [key], {});\n",
              "          if (!dataTable) return;\n",
              "\n",
              "          const docLinkHtml = 'Like what you see? Visit the ' +\n",
              "            '<a target=\"_blank\" href=https://colab.research.google.com/notebooks/data_table.ipynb>data table notebook</a>'\n",
              "            + ' to learn more about interactive tables.';\n",
              "          element.innerHTML = '';\n",
              "          dataTable['output_type'] = 'display_data';\n",
              "          await google.colab.output.renderOutput(dataTable, element);\n",
              "          const docLink = document.createElement('div');\n",
              "          docLink.innerHTML = docLinkHtml;\n",
              "          element.appendChild(docLink);\n",
              "        }\n",
              "      </script>\n",
              "    </div>\n",
              "  </div>\n",
              "  "
            ]
          },
          "metadata": {},
          "execution_count": 23
        }
      ]
    },
    {
      "cell_type": "markdown",
      "source": [
        "### Create Train/Test/Valid splits"
      ],
      "metadata": {
        "id": "_uIsciSvXQI4"
      }
    },
    {
      "cell_type": "code",
      "source": [
        "SAMPLE_FRAC_SIZE = 0.02\n",
        "\n",
        "# Create test, validation, and training subset from content\n",
        "train, test, valid = np.split(labeled_content_df.sample(frac=SAMPLE_FRAC_SIZE), [int(len(labeled_content_df)*SAMPLE_FRAC_SIZE*0.8), int(len(labeled_content_df)*SAMPLE_FRAC_SIZE*0.9)])\n",
        "print(train.shape, test.shape, valid.shape)"
      ],
      "metadata": {
        "colab": {
          "base_uri": "https://localhost:8080/"
        },
        "id": "uWGylzlII7hx",
        "outputId": "d3ce7fa0-ade3-45f8-9b2a-c3114eeb0342"
      },
      "execution_count": 25,
      "outputs": [
        {
          "output_type": "stream",
          "name": "stdout",
          "text": [
            "(11194, 9) (1400, 9) (1400, 9)\n"
          ]
        }
      ]
    },
    {
      "cell_type": "code",
      "source": [
        "# Create feature and label splits for each subset.\n",
        "X_train = train.drop(columns=[\"label\"])\n",
        "y_train = pd.DataFrame(data=train[\"label\"])\n",
        "\n",
        "X_test = test.drop(columns=[\"label\"])\n",
        "y_test = pd.DataFrame(data=test[\"label\"])\n",
        "\n",
        "X_valid = valid.drop(columns=[\"label\"])\n",
        "y_valid = pd.DataFrame(data=valid[\"label\"])"
      ],
      "metadata": {
        "id": "-h6OJ4RxEMuY"
      },
      "execution_count": 26,
      "outputs": []
    },
    {
      "cell_type": "code",
      "source": [
        "print(X_train.shape, X_test.shape, X_valid.shape)\n",
        "print(y_train.shape, y_test.shape, y_valid.shape)"
      ],
      "metadata": {
        "colab": {
          "base_uri": "https://localhost:8080/"
        },
        "id": "BlTu_4cmVsBn",
        "outputId": "1dc1c94a-112d-46b4-bc10-e0ab56061d55"
      },
      "execution_count": 27,
      "outputs": [
        {
          "output_type": "stream",
          "name": "stdout",
          "text": [
            "(11194, 8) (1400, 8) (1400, 8)\n",
            "(11194, 1) (1400, 1) (1400, 1)\n"
          ]
        }
      ]
    },
    {
      "cell_type": "markdown",
      "source": [
        "### Create Input Pipeline and Transform Data"
      ],
      "metadata": {
        "id": "l1CvinuoXUiA"
      }
    },
    {
      "cell_type": "code",
      "source": [
        "# Create input pipeline with batch size of 32\n",
        "def df_to_dataset(X, y, shuffle=True, batch_size=32, NUM_CLASSES=NUM_CLASSES):\n",
        "  df = {key: value[:,tf.newaxis] for key, value in X.items()}\n",
        "  # Convert to dataset\n",
        "  ds = tf.data.Dataset.from_tensor_slices((df, tf.one_hot(y, NUM_CLASSES)))\n",
        "  if shuffle:\n",
        "    ds = ds.shuffle(buffer_size=len(X))\n",
        "  # Batch dataset\n",
        "  ds = ds.batch(batch_size)\n",
        "  ds = ds.prefetch(batch_size)\n",
        "  return ds\n"
      ],
      "metadata": {
        "id": "F9N8gdMnWRNE"
      },
      "execution_count": 28,
      "outputs": []
    },
    {
      "cell_type": "code",
      "source": [
        "# Create and batch datasets\n",
        "batch_size = 32\n",
        "train_ds = df_to_dataset(X_train, y_train, batch_size=batch_size)\n",
        "test_ds = df_to_dataset(X_test, y_test, shuffle=False, batch_size=batch_size)\n",
        "valid_ds = df_to_dataset(X_valid, y_valid, shuffle=False, batch_size=batch_size)"
      ],
      "metadata": {
        "id": "OtQtPy_SsqOA",
        "colab": {
          "base_uri": "https://localhost:8080/"
        },
        "outputId": "9f37efd9-b0bb-4650-d563-297a5b1958d0"
      },
      "execution_count": 29,
      "outputs": [
        {
          "output_type": "stream",
          "name": "stderr",
          "text": [
            "<ipython-input-28-383d194f9abc>:3: FutureWarning: Support for multi-dimensional indexing (e.g. `obj[:, None]`) is deprecated and will be removed in a future version.  Convert to a numpy array before indexing instead.\n",
            "  df = {key: value[:,tf.newaxis] for key, value in X.items()}\n"
          ]
        }
      ]
    },
    {
      "cell_type": "code",
      "source": [
        "def convert_categories(column, dataset, dtype, max_tokens=None):\n",
        "  \"\"\"\n",
        "  Convert categorical columns to one hot encoding.\n",
        "  :param column: Feature to convert\n",
        "  :param dataset: Dataset to pull features from\n",
        "  :param dtype: Data type of column being passed in\n",
        "  :param max_tokens: Max size of vocabulary\n",
        "  \"\"\"\n",
        "  # Create layer that turns a string into integer indices\n",
        "  if dtype == 'string':\n",
        "    index = tf.keras.layers.StringLookup(max_tokens=max_tokens)\n",
        "\n",
        "  # Otherwise, convert integer values to integer indices\n",
        "  else:\n",
        "    index = tf.keras.layers.IntegerLookup(max_tokens=max_tokens)\n",
        "\n",
        "  # Reduce dataset down to only the feature passed to function\n",
        "  feature_ds = dataset.map(lambda x, y: x[column])\n",
        "\n",
        "  # Learn the set of possible values (vocabulary) and assign to an index from above\n",
        "  index.adapt(feature_ds)\n",
        "\n",
        "  # Encode indices\n",
        "  encoder = tf.keras.layers.CategoryEncoding(num_tokens=index.vocabulary_size(), output_mode=\"multi_hot\")\n",
        "\n",
        "  # Use multi-hot encoding on the indices. Lambda func captures the layer.\n",
        "  return lambda feature: encoder(index(feature))"
      ],
      "metadata": {
        "id": "G7Wi_2AJrIt2"
      },
      "execution_count": 64,
      "outputs": []
    },
    {
      "cell_type": "code",
      "source": [
        "# Define categorical columns for preprocessing\n",
        "categorical_columns = (\"id\", \"title\", \"kind\", \"language\", \"copyright_holder\", \"license\")\n",
        "\n",
        "# Define NLP columns\n",
        "nlp_columns = (\"text\", \"description\")"
      ],
      "metadata": {
        "id": "mqorNueTtLpP"
      },
      "execution_count": 65,
      "outputs": []
    },
    {
      "cell_type": "code",
      "source": [
        "# Test that layer will work in small-scale\n",
        "[(train_features, label_batch)] = train_ds.take(1)\n",
        "test_layer = convert_categories(\"kind\", train_ds, \"string\")\n",
        "test_layer(train_features[\"kind\"])"
      ],
      "metadata": {
        "colab": {
          "base_uri": "https://localhost:8080/"
        },
        "id": "v3rC4ZGxuMkP",
        "outputId": "838b3387-8b83-4615-cf7d-ff7faa8ae7ad"
      },
      "execution_count": 66,
      "outputs": [
        {
          "output_type": "execute_result",
          "data": {
            "text/plain": [
              "<tf.Tensor: shape=(32, 6), dtype=float32, numpy=\n",
              "array([[0., 0., 1., 0., 0., 0.],\n",
              "       [0., 1., 0., 0., 0., 0.],\n",
              "       [0., 1., 0., 0., 0., 0.],\n",
              "       [0., 1., 0., 0., 0., 0.],\n",
              "       [0., 0., 0., 1., 0., 0.],\n",
              "       [0., 1., 0., 0., 0., 0.],\n",
              "       [0., 0., 1., 0., 0., 0.],\n",
              "       [0., 0., 1., 0., 0., 0.],\n",
              "       [0., 1., 0., 0., 0., 0.],\n",
              "       [0., 1., 0., 0., 0., 0.],\n",
              "       [0., 0., 1., 0., 0., 0.],\n",
              "       [0., 0., 0., 1., 0., 0.],\n",
              "       [0., 1., 0., 0., 0., 0.],\n",
              "       [0., 1., 0., 0., 0., 0.],\n",
              "       [0., 0., 1., 0., 0., 0.],\n",
              "       [0., 1., 0., 0., 0., 0.],\n",
              "       [0., 0., 1., 0., 0., 0.],\n",
              "       [0., 1., 0., 0., 0., 0.],\n",
              "       [0., 1., 0., 0., 0., 0.],\n",
              "       [0., 0., 1., 0., 0., 0.],\n",
              "       [0., 0., 1., 0., 0., 0.],\n",
              "       [0., 0., 0., 1., 0., 0.],\n",
              "       [0., 1., 0., 0., 0., 0.],\n",
              "       [0., 0., 0., 1., 0., 0.],\n",
              "       [0., 1., 0., 0., 0., 0.],\n",
              "       [0., 0., 0., 1., 0., 0.],\n",
              "       [0., 1., 0., 0., 0., 0.],\n",
              "       [0., 1., 0., 0., 0., 0.],\n",
              "       [0., 0., 1., 0., 0., 0.],\n",
              "       [0., 0., 1., 0., 0., 0.],\n",
              "       [0., 0., 0., 0., 1., 0.],\n",
              "       [0., 1., 0., 0., 0., 0.]], dtype=float32)>"
            ]
          },
          "metadata": {},
          "execution_count": 66
        }
      ]
    },
    {
      "cell_type": "code",
      "source": [
        "label_batch"
      ],
      "metadata": {
        "colab": {
          "base_uri": "https://localhost:8080/"
        },
        "id": "CalN8DP12fKe",
        "outputId": "30f0e1fd-ebb2-47ff-f597-7a2862cfe914"
      },
      "execution_count": 67,
      "outputs": [
        {
          "output_type": "execute_result",
          "data": {
            "text/plain": [
              "<tf.Tensor: shape=(32, 1, 61517), dtype=float32, numpy=\n",
              "array([[[0., 1., 0., ..., 0., 0., 0.]],\n",
              "\n",
              "       [[0., 1., 0., ..., 0., 0., 0.]],\n",
              "\n",
              "       [[0., 1., 0., ..., 0., 0., 0.]],\n",
              "\n",
              "       ...,\n",
              "\n",
              "       [[0., 1., 0., ..., 0., 0., 0.]],\n",
              "\n",
              "       [[0., 1., 0., ..., 0., 0., 0.]],\n",
              "\n",
              "       [[0., 1., 0., ..., 0., 0., 0.]]], dtype=float32)>"
            ]
          },
          "metadata": {},
          "execution_count": 67
        }
      ]
    },
    {
      "cell_type": "code",
      "source": [
        "# Create text vectorization layer for description\n",
        "def vectorize_text(column, dataset, max_features=10000):\n",
        "  \"\"\"\n",
        "  Vectorizes natural language.\n",
        "  :param column: Feature to convert\n",
        "  :param dataset: Dataset to pull features from\n",
        "  :param max_features: Max size of vocabulary\n",
        "  \"\"\"\n",
        "  # Create a text_vectorization layer\n",
        "  vectorize_layer = tf.keras.layers.TextVectorization(\n",
        "      max_tokens=max_features,\n",
        "      output_mode=\"multi_hot\"\n",
        "  )\n",
        "\n",
        "  # Create a feature dataset from main dataset for passed column\n",
        "  feature_ds = dataset.map(lambda x, y: x[column])\n",
        "\n",
        "  # Adapt feature dataset\n",
        "  vectorize_layer.adapt(feature_ds)\n",
        "\n",
        "  # Return encoder\n",
        "  return lambda feature: vectorize_layer(feature)"
      ],
      "metadata": {
        "id": "RWGrC3Wut-3b"
      },
      "execution_count": 68,
      "outputs": []
    },
    {
      "cell_type": "code",
      "source": [
        "# Test vectorization layer works with description\n",
        "[(train_features, label_batch)] = train_ds.take(1)\n",
        "vector_layer = vectorize_text(\"description\", train_ds)\n",
        "vector_layer(train_features[\"description\"])"
      ],
      "metadata": {
        "colab": {
          "base_uri": "https://localhost:8080/"
        },
        "id": "06icasjR983L",
        "outputId": "ace164a0-3a7e-4126-8562-909200927d06"
      },
      "execution_count": 69,
      "outputs": [
        {
          "output_type": "execute_result",
          "data": {
            "text/plain": [
              "<tf.Tensor: shape=(32, 10000), dtype=float32, numpy=\n",
              "array([[0., 0., 0., ..., 0., 0., 0.],\n",
              "       [1., 0., 0., ..., 0., 0., 0.],\n",
              "       [0., 0., 1., ..., 0., 0., 0.],\n",
              "       ...,\n",
              "       [1., 0., 0., ..., 0., 0., 0.],\n",
              "       [1., 0., 0., ..., 0., 0., 0.],\n",
              "       [0., 0., 0., ..., 0., 0., 0.]], dtype=float32)>"
            ]
          },
          "metadata": {},
          "execution_count": 69
        }
      ]
    },
    {
      "cell_type": "code",
      "source": [
        "encoded_features = []\n",
        "all_inputs = []\n",
        "\n",
        "# Create a layer for each categorical column\n",
        "for column in categorical_columns:\n",
        "  col = tf.keras.Input(shape=(1,), name=column)\n",
        "  all_inputs.append(col)\n",
        "  layer = convert_categories(column, train_ds, \"string\")\n",
        "  encoded_col = layer(col)\n",
        "  encoded_features.append(encoded_col)\n",
        "\n",
        "# Create a layer for each natural language column (description only)\n",
        "for column in nlp_columns:\n",
        "  col = tf.keras.Input(shape=(1,), name=column)\n",
        "  all_inputs.append(col)\n",
        "  layer = vectorize_text(column, train_ds)\n",
        "  encoded_col = layer(col)\n",
        "  encoded_features.append(encoded_col)\n",
        "\n"
      ],
      "metadata": {
        "id": "zjJtuZONxXot"
      },
      "execution_count": 70,
      "outputs": []
    },
    {
      "cell_type": "code",
      "source": [
        "encoded_features"
      ],
      "metadata": {
        "colab": {
          "base_uri": "https://localhost:8080/"
        },
        "id": "8bcGkpOSAixk",
        "outputId": "393541cb-4ffe-408c-8bf8-fcc3ae504a2c"
      },
      "execution_count": 71,
      "outputs": [
        {
          "output_type": "execute_result",
          "data": {
            "text/plain": [
              "[<KerasTensor: shape=(None, 10616) dtype=float32 (created by layer 'category_encoding_16')>,\n",
              " <KerasTensor: shape=(None, 10281) dtype=float32 (created by layer 'category_encoding_17')>,\n",
              " <KerasTensor: shape=(None, 6) dtype=float32 (created by layer 'category_encoding_18')>,\n",
              " <KerasTensor: shape=(None, 28) dtype=float32 (created by layer 'category_encoding_19')>,\n",
              " <KerasTensor: shape=(None, 65) dtype=float32 (created by layer 'category_encoding_20')>,\n",
              " <KerasTensor: shape=(None, 9) dtype=float32 (created by layer 'category_encoding_21')>,\n",
              " <KerasTensor: shape=(None, 10000) dtype=float32 (created by layer 'text_vectorization_7')>,\n",
              " <KerasTensor: shape=(None, 10000) dtype=float32 (created by layer 'text_vectorization_8')>]"
            ]
          },
          "metadata": {},
          "execution_count": 71
        }
      ]
    },
    {
      "cell_type": "code",
      "source": [
        "all_inputs"
      ],
      "metadata": {
        "colab": {
          "base_uri": "https://localhost:8080/"
        },
        "id": "zd46xYToWEnm",
        "outputId": "a533f3e2-0564-456d-8d5e-542f1ea007c5"
      },
      "execution_count": 72,
      "outputs": [
        {
          "output_type": "execute_result",
          "data": {
            "text/plain": [
              "[<KerasTensor: shape=(None, 1) dtype=float32 (created by layer 'id')>,\n",
              " <KerasTensor: shape=(None, 1) dtype=float32 (created by layer 'title')>,\n",
              " <KerasTensor: shape=(None, 1) dtype=float32 (created by layer 'kind')>,\n",
              " <KerasTensor: shape=(None, 1) dtype=float32 (created by layer 'language')>,\n",
              " <KerasTensor: shape=(None, 1) dtype=float32 (created by layer 'copyright_holder')>,\n",
              " <KerasTensor: shape=(None, 1) dtype=float32 (created by layer 'license')>,\n",
              " <KerasTensor: shape=(None, 1) dtype=float32 (created by layer 'text')>,\n",
              " <KerasTensor: shape=(None, 1) dtype=float32 (created by layer 'description')>]"
            ]
          },
          "metadata": {},
          "execution_count": 72
        }
      ]
    },
    {
      "cell_type": "code",
      "source": [
        "INPUT_SHAPE = X_train.shape"
      ],
      "metadata": {
        "id": "LgOPScj4vAR6"
      },
      "execution_count": 73,
      "outputs": []
    },
    {
      "cell_type": "markdown",
      "source": [
        "### Build and Train Model"
      ],
      "metadata": {
        "id": "1fjleLu-Ak7H"
      }
    },
    {
      "cell_type": "code",
      "source": [
        "def create_compile_model(inputs, features, output_shape, optimizer=\"adam\", metrics=[\"accuracy\"]):\n",
        "  \"\"\"\n",
        "  Creates and compiles a model based on features with parameters to modify activation layer and optimizer.\n",
        "  \"param inputs: Input columns for layers\n",
        "  :param features: Encoding layers for each feature\n",
        "  :param optimizer: Optimizer for the model\n",
        "  :param metrics: Scoring metrics\n",
        "  \"\"\"  \n",
        "  # Merge the list of input features\n",
        "  all_features = tf.keras.layers.concatenate(features)\n",
        "\n",
        "  # Create activation layer - defines activation threshold method\n",
        "  x = tf.keras.layers.Dense(32, activation='relu')(all_features)\n",
        "\n",
        "  # Create dropout layer - drops certain inputs to avoid overfitting\n",
        "  x = tf.keras.layers.Dropout(0.2)(x)\n",
        "\n",
        "  # Create output layer with size 1 so that only 1 category is ouput\n",
        "  output = tf.keras.layers.Dense(units=output_shape, activation=\"softmax\")(x)\n",
        "\n",
        "  # Create model\n",
        "  model = tf.keras.Model(inputs, output)\n",
        "\n",
        "  # Compile model\n",
        "  model.compile(optimizer=optimizer, \n",
        "                loss= \"sparse_categorical_crossentropy\",\n",
        "                metrics=metrics)\n",
        "\n",
        "  return model"
      ],
      "metadata": {
        "id": "4fNXzg0jAuHv"
      },
      "execution_count": 74,
      "outputs": []
    },
    {
      "cell_type": "code",
      "source": [
        "# Compile model\n",
        "model = create_compile_model(all_inputs, encoded_features, NUM_CLASSES)\n",
        "\n",
        "# Visualize model\n",
        "tf.keras.utils.plot_model(model, show_shapes=True, rankdir=\"LR\")"
      ],
      "metadata": {
        "colab": {
          "base_uri": "https://localhost:8080/",
          "height": 521
        },
        "id": "9UUuMYloE6ja",
        "outputId": "b64e9b3e-7bf2-4c73-bad7-1ad87f47259f"
      },
      "execution_count": 77,
      "outputs": [
        {
          "output_type": "execute_result",
          "data": {
            "image/png": "[encoded data removed]",
            "text/plain": [
              "<IPython.core.display.Image object>"
            ]
          },
          "metadata": {},
          "execution_count": 77
        }
      ]
    },
    {
      "cell_type": "code",
      "source": [
        "# Fit model on train data\n",
        "model.fit(train_ds, epochs=10, validation_data=valid_ds)"
      ],
      "metadata": {
        "colab": {
          "base_uri": "https://localhost:8080/",
          "height": 1000
        },
        "id": "iZetb_1HTrZF",
        "outputId": "e99cba86-c512-4f3e-c73c-2499e395ce41"
      },
      "execution_count": 78,
      "outputs": [
        {
          "output_type": "stream",
          "name": "stdout",
          "text": [
            "Epoch 1/10\n"
          ]
        },
        {
          "output_type": "error",
          "ename": "UnimplementedError",
          "evalue": "ignored",
          "traceback": [
            "\u001b[0;31m---------------------------------------------------------------------------\u001b[0m",
            "\u001b[0;31mUnimplementedError\u001b[0m                        Traceback (most recent call last)",
            "\u001b[0;32m<ipython-input-78-a84dd081e0fa>\u001b[0m in \u001b[0;36m<module>\u001b[0;34m\u001b[0m\n\u001b[1;32m      1\u001b[0m \u001b[0;31m# Fit model on train data\u001b[0m\u001b[0;34m\u001b[0m\u001b[0;34m\u001b[0m\u001b[0;34m\u001b[0m\u001b[0m\n\u001b[0;32m----> 2\u001b[0;31m \u001b[0mmodel\u001b[0m\u001b[0;34m.\u001b[0m\u001b[0mfit\u001b[0m\u001b[0;34m(\u001b[0m\u001b[0mtrain_ds\u001b[0m\u001b[0;34m,\u001b[0m \u001b[0mepochs\u001b[0m\u001b[0;34m=\u001b[0m\u001b[0;36m10\u001b[0m\u001b[0;34m,\u001b[0m \u001b[0mvalidation_data\u001b[0m\u001b[0;34m=\u001b[0m\u001b[0mvalid_ds\u001b[0m\u001b[0;34m)\u001b[0m\u001b[0;34m\u001b[0m\u001b[0;34m\u001b[0m\u001b[0m\n\u001b[0m",
            "\u001b[0;32m/usr/local/lib/python3.8/dist-packages/keras/utils/traceback_utils.py\u001b[0m in \u001b[0;36merror_handler\u001b[0;34m(*args, **kwargs)\u001b[0m\n\u001b[1;32m     65\u001b[0m     \u001b[0;32mexcept\u001b[0m \u001b[0mException\u001b[0m \u001b[0;32mas\u001b[0m \u001b[0me\u001b[0m\u001b[0;34m:\u001b[0m  \u001b[0;31m# pylint: disable=broad-except\u001b[0m\u001b[0;34m\u001b[0m\u001b[0;34m\u001b[0m\u001b[0m\n\u001b[1;32m     66\u001b[0m       \u001b[0mfiltered_tb\u001b[0m \u001b[0;34m=\u001b[0m \u001b[0m_process_traceback_frames\u001b[0m\u001b[0;34m(\u001b[0m\u001b[0me\u001b[0m\u001b[0;34m.\u001b[0m\u001b[0m__traceback__\u001b[0m\u001b[0;34m)\u001b[0m\u001b[0;34m\u001b[0m\u001b[0;34m\u001b[0m\u001b[0m\n\u001b[0;32m---> 67\u001b[0;31m       \u001b[0;32mraise\u001b[0m \u001b[0me\u001b[0m\u001b[0;34m.\u001b[0m\u001b[0mwith_traceback\u001b[0m\u001b[0;34m(\u001b[0m\u001b[0mfiltered_tb\u001b[0m\u001b[0;34m)\u001b[0m \u001b[0;32mfrom\u001b[0m \u001b[0;32mNone\u001b[0m\u001b[0;34m\u001b[0m\u001b[0;34m\u001b[0m\u001b[0m\n\u001b[0m\u001b[1;32m     68\u001b[0m     \u001b[0;32mfinally\u001b[0m\u001b[0;34m:\u001b[0m\u001b[0;34m\u001b[0m\u001b[0;34m\u001b[0m\u001b[0m\n\u001b[1;32m     69\u001b[0m       \u001b[0;32mdel\u001b[0m \u001b[0mfiltered_tb\u001b[0m\u001b[0;34m\u001b[0m\u001b[0;34m\u001b[0m\u001b[0m\n",
            "\u001b[0;32m/usr/local/lib/python3.8/dist-packages/tensorflow/python/eager/execute.py\u001b[0m in \u001b[0;36mquick_execute\u001b[0;34m(op_name, num_outputs, inputs, attrs, ctx, name)\u001b[0m\n\u001b[1;32m     52\u001b[0m   \u001b[0;32mtry\u001b[0m\u001b[0;34m:\u001b[0m\u001b[0;34m\u001b[0m\u001b[0;34m\u001b[0m\u001b[0m\n\u001b[1;32m     53\u001b[0m     \u001b[0mctx\u001b[0m\u001b[0;34m.\u001b[0m\u001b[0mensure_initialized\u001b[0m\u001b[0;34m(\u001b[0m\u001b[0;34m)\u001b[0m\u001b[0;34m\u001b[0m\u001b[0;34m\u001b[0m\u001b[0m\n\u001b[0;32m---> 54\u001b[0;31m     tensors = pywrap_tfe.TFE_Py_Execute(ctx._handle, device_name, op_name,\n\u001b[0m\u001b[1;32m     55\u001b[0m                                         inputs, attrs, num_outputs)\n\u001b[1;32m     56\u001b[0m   \u001b[0;32mexcept\u001b[0m \u001b[0mcore\u001b[0m\u001b[0;34m.\u001b[0m\u001b[0m_NotOkStatusException\u001b[0m \u001b[0;32mas\u001b[0m \u001b[0me\u001b[0m\u001b[0;34m:\u001b[0m\u001b[0;34m\u001b[0m\u001b[0;34m\u001b[0m\u001b[0m\n",
            "\u001b[0;31mUnimplementedError\u001b[0m: Graph execution error:\n\nDetected at node 'model_3/Cast_4' defined at (most recent call last):\n    File \"/usr/lib/python3.8/runpy.py\", line 194, in _run_module_as_main\n      return _run_code(code, main_globals, None,\n    File \"/usr/lib/python3.8/runpy.py\", line 87, in _run_code\n      exec(code, run_globals)\n    File \"/usr/local/lib/python3.8/dist-packages/ipykernel_launcher.py\", line 16, in <module>\n      app.launch_new_instance()\n    File \"/usr/local/lib/python3.8/dist-packages/traitlets/config/application.py\", line 992, in launch_instance\n      app.start()\n    File \"/usr/local/lib/python3.8/dist-packages/ipykernel/kernelapp.py\", line 612, in start\n      self.io_loop.start()\n    File \"/usr/local/lib/python3.8/dist-packages/tornado/platform/asyncio.py\", line 149, in start\n      self.asyncio_loop.run_forever()\n    File \"/usr/lib/python3.8/asyncio/base_events.py\", line 570, in run_forever\n      self._run_once()\n    File \"/usr/lib/python3.8/asyncio/base_events.py\", line 1859, in _run_once\n      handle._run()\n    File \"/usr/lib/python3.8/asyncio/events.py\", line 81, in _run\n      self._context.run(self._callback, *self._args)\n    File \"/usr/local/lib/python3.8/dist-packages/tornado/ioloop.py\", line 690, in <lambda>\n      lambda f: self._run_callback(functools.partial(callback, future))\n    File \"/usr/local/lib/python3.8/dist-packages/tornado/ioloop.py\", line 743, in _run_callback\n      ret = callback()\n    File \"/usr/local/lib/python3.8/dist-packages/tornado/gen.py\", line 787, in inner\n      self.run()\n    File \"/usr/local/lib/python3.8/dist-packages/tornado/gen.py\", line 748, in run\n      yielded = self.gen.send(value)\n    File \"/usr/local/lib/python3.8/dist-packages/ipykernel/kernelbase.py\", line 365, in process_one\n      yield gen.maybe_future(dispatch(*args))\n    File \"/usr/local/lib/python3.8/dist-packages/tornado/gen.py\", line 209, in wrapper\n      yielded = next(result)\n    File \"/usr/local/lib/python3.8/dist-packages/ipykernel/kernelbase.py\", line 268, in dispatch_shell\n      yield gen.maybe_future(handler(stream, idents, msg))\n    File \"/usr/local/lib/python3.8/dist-packages/tornado/gen.py\", line 209, in wrapper\n      yielded = next(result)\n    File \"/usr/local/lib/python3.8/dist-packages/ipykernel/kernelbase.py\", line 543, in execute_request\n      self.do_execute(\n    File \"/usr/local/lib/python3.8/dist-packages/tornado/gen.py\", line 209, in wrapper\n      yielded = next(result)\n    File \"/usr/local/lib/python3.8/dist-packages/ipykernel/ipkernel.py\", line 306, in do_execute\n      res = shell.run_cell(code, store_history=store_history, silent=silent)\n    File \"/usr/local/lib/python3.8/dist-packages/ipykernel/zmqshell.py\", line 536, in run_cell\n      return super(ZMQInteractiveShell, self).run_cell(*args, **kwargs)\n    File \"/usr/local/lib/python3.8/dist-packages/IPython/core/interactiveshell.py\", line 2854, in run_cell\n      result = self._run_cell(\n    File \"/usr/local/lib/python3.8/dist-packages/IPython/core/interactiveshell.py\", line 2881, in _run_cell\n      return runner(coro)\n    File \"/usr/local/lib/python3.8/dist-packages/IPython/core/async_helpers.py\", line 68, in _pseudo_sync_runner\n      coro.send(None)\n    File \"/usr/local/lib/python3.8/dist-packages/IPython/core/interactiveshell.py\", line 3057, in run_cell_async\n      has_raised = await self.run_ast_nodes(code_ast.body, cell_name,\n    File \"/usr/local/lib/python3.8/dist-packages/IPython/core/interactiveshell.py\", line 3249, in run_ast_nodes\n      if (await self.run_code(code, result,  async_=asy)):\n    File \"/usr/local/lib/python3.8/dist-packages/IPython/core/interactiveshell.py\", line 3326, in run_code\n      exec(code_obj, self.user_global_ns, self.user_ns)\n    File \"<ipython-input-78-a84dd081e0fa>\", line 2, in <module>\n      model.fit(train_ds, epochs=10, validation_data=valid_ds)\n    File \"/usr/local/lib/python3.8/dist-packages/keras/utils/traceback_utils.py\", line 64, in error_handler\n      return fn(*args, **kwargs)\n    File \"/usr/local/lib/python3.8/dist-packages/keras/engine/training.py\", line 1409, in fit\n      tmp_logs = self.train_function(iterator)\n    File \"/usr/local/lib/python3.8/dist-packages/keras/engine/training.py\", line 1051, in train_function\n      return step_function(self, iterator)\n    File \"/usr/local/lib/python3.8/dist-packages/keras/engine/training.py\", line 1040, in step_function\n      outputs = model.distribute_strategy.run(run_step, args=(data,))\n    File \"/usr/local/lib/python3.8/dist-packages/keras/engine/training.py\", line 1030, in run_step\n      outputs = model.train_step(data)\n    File \"/usr/local/lib/python3.8/dist-packages/keras/engine/training.py\", line 889, in train_step\n      y_pred = self(x, training=True)\n    File \"/usr/local/lib/python3.8/dist-packages/keras/utils/traceback_utils.py\", line 64, in error_handler\n      return fn(*args, **kwargs)\n    File \"/usr/local/lib/python3.8/dist-packages/keras/engine/training.py\", line 490, in __call__\n      return super().__call__(*args, **kwargs)\n    File \"/usr/local/lib/python3.8/dist-packages/keras/utils/traceback_utils.py\", line 64, in error_handler\n      return fn(*args, **kwargs)\n    File \"/usr/local/lib/python3.8/dist-packages/keras/engine/base_layer.py\", line 1014, in __call__\n      outputs = call_fn(inputs, *args, **kwargs)\n    File \"/usr/local/lib/python3.8/dist-packages/keras/utils/traceback_utils.py\", line 92, in error_handler\n      return fn(*args, **kwargs)\n    File \"/usr/local/lib/python3.8/dist-packages/keras/engine/functional.py\", line 458, in call\n      return self._run_internal_graph(\n    File \"/usr/local/lib/python3.8/dist-packages/keras/engine/functional.py\", line 578, in _run_internal_graph\n      y = self._conform_to_reference_input(y, ref_input=x)\n    File \"/usr/local/lib/python3.8/dist-packages/keras/engine/functional.py\", line 678, in _conform_to_reference_input\n      tensor = tf.cast(tensor, dtype=ref_input.dtype)\nNode: 'model_3/Cast_4'\nCast string to float is not supported\n\t [[{{node model_3/Cast_4}}]] [Op:__inference_train_function_31052]"
          ]
        }
      ]
    },
    {
      "cell_type": "code",
      "source": [],
      "metadata": {
        "id": "xa_KJKx6FL5P"
      },
      "execution_count": null,
      "outputs": []
    }
  ]
}